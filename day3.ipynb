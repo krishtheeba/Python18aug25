{
 "cells": [
  {
   "cell_type": "code",
   "execution_count": 1,
   "id": "d7c8408a-1a9c-4ae8-9a31-1867c14bd101",
   "metadata": {},
   "outputs": [
    {
     "name": "stdout",
     "output_type": "stream",
     "text": [
      "hello\n"
     ]
    }
   ],
   "source": [
    "print(\"hello\")"
   ]
  },
  {
   "cell_type": "code",
   "execution_count": null,
   "id": "3a7cf3ca-b41f-443e-9e37-cd880bc25736",
   "metadata": {},
   "outputs": [],
   "source": [
    "Recap\n",
    "=====\n",
    "List - collection of elements (different type) - ordered - index based- slicing- duplicates- mutable- []\n",
    "Tuple - collection of elements (different type) - ordered  - index based - slicing - duplicates - immutable -()\n",
    "dict - {key:value, key1:value1, key2:value2} - unordered - key based - duplicates allowed value but keys are unique - mutable\n",
    "< a href=\"url\">\n",
    "\n"
   ]
  },
  {
   "cell_type": "code",
   "execution_count": 4,
   "id": "c38ef9a7-a90b-4ad3-87bb-7be573118da8",
   "metadata": {},
   "outputs": [
    {
     "name": "stdout",
     "output_type": "stream",
     "text": [
      "<class 'dict'>\n",
      "Help on dict object:\n",
      "\n",
      "class dict(object)\n",
      " |  dict() -> new empty dictionary\n",
      " |  dict(mapping) -> new dictionary initialized from a mapping object's\n",
      " |      (key, value) pairs\n",
      " |  dict(iterable) -> new dictionary initialized as if via:\n",
      " |      d = {}\n",
      " |      for k, v in iterable:\n",
      " |          d[k] = v\n",
      " |  dict(**kwargs) -> new dictionary initialized with the name=value pairs\n",
      " |      in the keyword argument list.  For example:  dict(one=1, two=2)\n",
      " |\n",
      " |  Methods defined here:\n",
      " |\n",
      " |  __contains__(self, key, /)\n",
      " |      True if the dictionary has the specified key, else False.\n",
      " |\n",
      " |  __delitem__(self, key, /)\n",
      " |      Delete self[key].\n",
      " |\n",
      " |  __eq__(self, value, /)\n",
      " |      Return self==value.\n",
      " |\n",
      " |  __ge__(self, value, /)\n",
      " |      Return self>=value.\n",
      " |\n",
      " |  __getattribute__(self, name, /)\n",
      " |      Return getattr(self, name).\n",
      " |\n",
      " |  __getitem__(self, key, /)\n",
      " |      Return self[key].\n",
      " |\n",
      " |  __gt__(self, value, /)\n",
      " |      Return self>value.\n",
      " |\n",
      " |  __init__(self, /, *args, **kwargs)\n",
      " |      Initialize self.  See help(type(self)) for accurate signature.\n",
      " |\n",
      " |  __ior__(self, value, /)\n",
      " |      Return self|=value.\n",
      " |\n",
      " |  __iter__(self, /)\n",
      " |      Implement iter(self).\n",
      " |\n",
      " |  __le__(self, value, /)\n",
      " |      Return self<=value.\n",
      " |\n",
      " |  __len__(self, /)\n",
      " |      Return len(self).\n",
      " |\n",
      " |  __lt__(self, value, /)\n",
      " |      Return self<value.\n",
      " |\n",
      " |  __ne__(self, value, /)\n",
      " |      Return self!=value.\n",
      " |\n",
      " |  __or__(self, value, /)\n",
      " |      Return self|value.\n",
      " |\n",
      " |  __repr__(self, /)\n",
      " |      Return repr(self).\n",
      " |\n",
      " |  __reversed__(self, /)\n",
      " |      Return a reverse iterator over the dict keys.\n",
      " |\n",
      " |  __ror__(self, value, /)\n",
      " |      Return value|self.\n",
      " |\n",
      " |  __setitem__(self, key, value, /)\n",
      " |      Set self[key] to value.\n",
      " |\n",
      " |  __sizeof__(self, /)\n",
      " |      Return the size of the dict in memory, in bytes.\n",
      " |\n",
      " |  clear(self, /)\n",
      " |      Remove all items from the dict.\n",
      " |\n",
      " |  copy(self, /)\n",
      " |      Return a shallow copy of the dict.\n",
      " |\n",
      " |  get(self, key, default=None, /)\n",
      " |      Return the value for key if key is in the dictionary, else default.\n",
      " |\n",
      " |  items(self, /)\n",
      " |      Return a set-like object providing a view on the dict's items.\n",
      " |\n",
      " |  keys(self, /)\n",
      " |      Return a set-like object providing a view on the dict's keys.\n",
      " |\n",
      " |  pop(self, key, default=<unrepresentable>, /)\n",
      " |      D.pop(k[,d]) -> v, remove specified key and return the corresponding value.\n",
      " |\n",
      " |      If the key is not found, return the default if given; otherwise,\n",
      " |      raise a KeyError.\n",
      " |\n",
      " |  popitem(self, /)\n",
      " |      Remove and return a (key, value) pair as a 2-tuple.\n",
      " |\n",
      " |      Pairs are returned in LIFO (last-in, first-out) order.\n",
      " |      Raises KeyError if the dict is empty.\n",
      " |\n",
      " |  setdefault(self, key, default=None, /)\n",
      " |      Insert key with a value of default if key is not in the dictionary.\n",
      " |\n",
      " |      Return the value for key if key is in the dictionary, else default.\n",
      " |\n",
      " |  update(...)\n",
      " |      D.update([E, ]**F) -> None.  Update D from mapping/iterable E and F.\n",
      " |      If E is present and has a .keys() method, then does:  for k in E.keys(): D[k] = E[k]\n",
      " |      If E is present and lacks a .keys() method, then does:  for k, v in E: D[k] = v\n",
      " |      In either case, this is followed by: for k in F:  D[k] = F[k]\n",
      " |\n",
      " |  values(self, /)\n",
      " |      Return an object providing a view on the dict's values.\n",
      " |\n",
      " |  ----------------------------------------------------------------------\n",
      " |  Class methods defined here:\n",
      " |\n",
      " |  __class_getitem__(object, /)\n",
      " |      See PEP 585\n",
      " |\n",
      " |  fromkeys(iterable, value=None, /)\n",
      " |      Create a new dictionary with keys from iterable and values set to value.\n",
      " |\n",
      " |  ----------------------------------------------------------------------\n",
      " |  Static methods defined here:\n",
      " |\n",
      " |  __new__(*args, **kwargs)\n",
      " |      Create and return a new object.  See help(type) for accurate signature.\n",
      " |\n",
      " |  ----------------------------------------------------------------------\n",
      " |  Data and other attributes defined here:\n",
      " |\n",
      " |  __hash__ = None\n",
      "\n"
     ]
    }
   ],
   "source": [
    "emp={\"eid\":1234 , \"ename\": \"Theeba\", \"ecost\":3322.3222}\n",
    "print(type(emp))\n",
    "help({})  # help(dict)"
   ]
  },
  {
   "cell_type": "code",
   "execution_count": 5,
   "id": "81e32b89-9980-4d56-bb95-f0327cd34f3d",
   "metadata": {},
   "outputs": [
    {
     "name": "stdout",
     "output_type": "stream",
     "text": [
      "{'eid': 1234, 'ename': 'Theeba', 'ecost': 3322.3222}\n"
     ]
    }
   ],
   "source": [
    "print(emp)"
   ]
  },
  {
   "cell_type": "code",
   "execution_count": 6,
   "id": "740f9133-0932-4970-9a60-7cf1b1ec3f16",
   "metadata": {},
   "outputs": [
    {
     "ename": "NameError",
     "evalue": "name 'EMp' is not defined",
     "output_type": "error",
     "traceback": [
      "\u001b[1;31m---------------------------------------------------------------------------\u001b[0m",
      "\u001b[1;31mNameError\u001b[0m                                 Traceback (most recent call last)",
      "Cell \u001b[1;32mIn[6], line 1\u001b[0m\n\u001b[1;32m----> 1\u001b[0m \u001b[38;5;28mprint\u001b[39m(EMp)\n",
      "\u001b[1;31mNameError\u001b[0m: name 'EMp' is not defined"
     ]
    }
   ],
   "source": [
    "print(EMp)"
   ]
  },
  {
   "cell_type": "code",
   "execution_count": null,
   "id": "ea9f34ea-2ccc-42f6-b563-806429f5ebd5",
   "metadata": {},
   "outputs": [],
   "source": [
    "How  to fetch single element from dict?\n",
    "dictname[key]===> value  / KeyError                vs       Listname[index] ==> value"
   ]
  },
  {
   "cell_type": "code",
   "execution_count": 7,
   "id": "52f578bd-86de-4e9e-970f-40189c2bf3b5",
   "metadata": {},
   "outputs": [
    {
     "data": {
      "text/plain": [
       "1234"
      ]
     },
     "execution_count": 7,
     "metadata": {},
     "output_type": "execute_result"
    }
   ],
   "source": [
    "emp[\"eid\"]"
   ]
  },
  {
   "cell_type": "code",
   "execution_count": 8,
   "id": "bf91fa3c-30e8-4153-b1b4-5eb3e19799ef",
   "metadata": {},
   "outputs": [
    {
     "ename": "KeyError",
     "evalue": "'ecity'",
     "output_type": "error",
     "traceback": [
      "\u001b[1;31m---------------------------------------------------------------------------\u001b[0m",
      "\u001b[1;31mKeyError\u001b[0m                                  Traceback (most recent call last)",
      "Cell \u001b[1;32mIn[8], line 1\u001b[0m\n\u001b[1;32m----> 1\u001b[0m emp[\u001b[38;5;124m\"\u001b[39m\u001b[38;5;124mecity\u001b[39m\u001b[38;5;124m\"\u001b[39m]\n",
      "\u001b[1;31mKeyError\u001b[0m: 'ecity'"
     ]
    }
   ],
   "source": [
    "emp[\"ecity\"]                       # VS      Listname[indexNotAvaiable]----> IndexError"
   ]
  },
  {
   "cell_type": "code",
   "execution_count": 10,
   "id": "e87e7570-4005-4b11-be44-fd25c4c40f3c",
   "metadata": {},
   "outputs": [
    {
     "name": "stdout",
     "output_type": "stream",
     "text": [
      "{'eid': 1234, 'ename': 'Theeba', 'ecost': 3322.3222}\n",
      "{'eid': 1234, 'ename': 'Raghav', 'ecost': 3322.3222}\n"
     ]
    }
   ],
   "source": [
    "# How to modify a data from dict?\n",
    "# dictname['oldkey'] = updatedValue\n",
    "print(emp)\n",
    "emp['ename']=\"Raghav\"\n",
    "print(emp)"
   ]
  },
  {
   "cell_type": "code",
   "execution_count": 11,
   "id": "d3fc737b-3441-4030-a1a6-1729b3ecaf0e",
   "metadata": {},
   "outputs": [
    {
     "name": "stdout",
     "output_type": "stream",
     "text": [
      "{'eid': 1234, 'ename': 'Raghav', 'ecost': 3322.3222, 'ecity': 'Pune'}\n"
     ]
    }
   ],
   "source": [
    "# How to add new data to existing dict?\n",
    "#dictname['newkey']=newvalue\n",
    "emp[\"ecity\"]=\"Pune\"\n",
    "print(emp)"
   ]
  },
  {
   "cell_type": "code",
   "execution_count": 13,
   "id": "a855c562-e93e-496f-9ac5-db33dc00766d",
   "metadata": {},
   "outputs": [
    {
     "name": "stdout",
     "output_type": "stream",
     "text": [
      "{'eid': 1234, 'ename': 'Raghav', 'ecost': 3322.3222, 'ecity': 'Pune'}\n",
      "{'ename': 'Raghav', 'ecost': 3322.3222, 'ecity': 'Pune'}\n"
     ]
    }
   ],
   "source": [
    "#How to delete data?\n",
    "# del(dictname[\"key\"])\n",
    "print(emp)\n",
    "del(emp[\"eid\"])\n",
    "print(emp)"
   ]
  },
  {
   "cell_type": "code",
   "execution_count": 14,
   "id": "197e079f-69f1-48cc-bd66-bbbfaf71edd7",
   "metadata": {},
   "outputs": [
    {
     "name": "stdin",
     "output_type": "stream",
     "text": [
      "Enter the Hostname: Host01\n",
      "Enter the IP Address:  192.168.1.2\n"
     ]
    },
    {
     "name": "stdout",
     "output_type": "stream",
     "text": [
      "{'Host01': '192.168.1.2'}\n"
     ]
    }
   ],
   "source": [
    "'''\n",
    "Task\n",
    "====\n",
    "1. create an empty dictionary   d={} # empty dict \n",
    "2. read a hostname from user\n",
    "3. read the Ip address from user\n",
    "4. use hostname as key and ipaddress as value {k:v} and add it to existing dict\n",
    "5. display the dict\n",
    "'''\n",
    "d={}\n",
    "host=input(\"Enter the Hostname:\")\n",
    "ip=input(\"Enter the IP Address: \")\n",
    "# dictname[newkey]=newvalue\n",
    "d[host]=ip\n",
    "print(d)\n"
   ]
  },
  {
   "cell_type": "code",
   "execution_count": 16,
   "id": "b3654fa7-0020-44f0-bed3-ea60ee3fc7a9",
   "metadata": {},
   "outputs": [
    {
     "name": "stdout",
     "output_type": "stream",
     "text": [
      "1\n",
      "2\n",
      "3\n",
      "4\n",
      "5\n"
     ]
    }
   ],
   "source": [
    "L=[1,2,3,4,5]\n",
    "for i in L:\n",
    "    print(i)"
   ]
  },
  {
   "cell_type": "code",
   "execution_count": 17,
   "id": "c2b69cc0-1b6a-4785-9c50-032208bef180",
   "metadata": {},
   "outputs": [
    {
     "name": "stdout",
     "output_type": "stream",
     "text": [
      "ename\n",
      "ecost\n",
      "ecity\n"
     ]
    }
   ],
   "source": [
    "for i in emp:  # iteration on keys Not on Values\n",
    "    print(i)"
   ]
  },
  {
   "cell_type": "code",
   "execution_count": 18,
   "id": "6f79bfba-e324-48fe-a287-cbb5849dd5b1",
   "metadata": {},
   "outputs": [
    {
     "name": "stdout",
     "output_type": "stream",
     "text": [
      "Raghav\n",
      "3322.3222\n",
      "Pune\n"
     ]
    }
   ],
   "source": [
    "for i in emp:\n",
    "    print(emp[i])"
   ]
  },
  {
   "cell_type": "code",
   "execution_count": 19,
   "id": "d45163ff-91aa-4797-adb7-614b9b9c99b5",
   "metadata": {},
   "outputs": [
    {
     "name": "stdout",
     "output_type": "stream",
     "text": [
      "ename ---> Raghav\n",
      "ecost ---> 3322.3222\n",
      "ecity ---> Pune\n"
     ]
    }
   ],
   "source": [
    "for i in emp:\n",
    "    print(\"{} ---> {}\".format(i,emp[i]))"
   ]
  },
  {
   "cell_type": "code",
   "execution_count": 20,
   "id": "87aacd46-b832-4763-a43e-2cd61c0e1ec7",
   "metadata": {},
   "outputs": [],
   "source": [
    "if \"eid\" in emp:\n",
    "    print(emp[\"eid\"])\n",
    "else:\n",
    "    emp[\"eid\"]=10000\n",
    "        "
   ]
  },
  {
   "cell_type": "code",
   "execution_count": 21,
   "id": "3dd9e5fa-94a8-4e78-84c3-65bb3e7410fa",
   "metadata": {},
   "outputs": [
    {
     "data": {
      "text/plain": [
       "{'ename': 'Raghav', 'ecost': 3322.3222, 'ecity': 'Pune', 'eid': 10000}"
      ]
     },
     "execution_count": 21,
     "metadata": {},
     "output_type": "execute_result"
    }
   ],
   "source": [
    "emp"
   ]
  },
  {
   "cell_type": "code",
   "execution_count": 22,
   "id": "689a90d8-ec2a-4c6a-980f-f70aaf7b0d35",
   "metadata": {},
   "outputs": [
    {
     "name": "stdout",
     "output_type": "stream",
     "text": [
      "Sorry Key Exist\n"
     ]
    }
   ],
   "source": [
    "if \"ename\" not in  emp:\n",
    "    emp[\"ename\"]=\"Hari\"\n",
    "else:\n",
    "    print(\"Sorry Key Exist\")"
   ]
  },
  {
   "cell_type": "code",
   "execution_count": 23,
   "id": "4239ebf0-7053-4932-85bd-4120c8a06764",
   "metadata": {},
   "outputs": [
    {
     "data": {
      "text/plain": [
       "{'ename': 'Raghav', 'ecost': 3322.3222, 'ecity': 'Pune', 'eid': 10000}"
      ]
     },
     "execution_count": 23,
     "metadata": {},
     "output_type": "execute_result"
    }
   ],
   "source": [
    "emp"
   ]
  },
  {
   "cell_type": "code",
   "execution_count": 24,
   "id": "ad93c6d9-6799-4907-8b27-59ef13a912bc",
   "metadata": {},
   "outputs": [
    {
     "name": "stdout",
     "output_type": "stream",
     "text": [
      "Help on class dict in module builtins:\n",
      "\n",
      "class dict(object)\n",
      " |  dict() -> new empty dictionary\n",
      " |  dict(mapping) -> new dictionary initialized from a mapping object's\n",
      " |      (key, value) pairs\n",
      " |  dict(iterable) -> new dictionary initialized as if via:\n",
      " |      d = {}\n",
      " |      for k, v in iterable:\n",
      " |          d[k] = v\n",
      " |  dict(**kwargs) -> new dictionary initialized with the name=value pairs\n",
      " |      in the keyword argument list.  For example:  dict(one=1, two=2)\n",
      " |\n",
      " |  Methods defined here:\n",
      " |\n",
      " |  __contains__(self, key, /)\n",
      " |      True if the dictionary has the specified key, else False.\n",
      " |\n",
      " |  __delitem__(self, key, /)\n",
      " |      Delete self[key].\n",
      " |\n",
      " |  __eq__(self, value, /)\n",
      " |      Return self==value.\n",
      " |\n",
      " |  __ge__(self, value, /)\n",
      " |      Return self>=value.\n",
      " |\n",
      " |  __getattribute__(self, name, /)\n",
      " |      Return getattr(self, name).\n",
      " |\n",
      " |  __getitem__(self, key, /)\n",
      " |      Return self[key].\n",
      " |\n",
      " |  __gt__(self, value, /)\n",
      " |      Return self>value.\n",
      " |\n",
      " |  __init__(self, /, *args, **kwargs)\n",
      " |      Initialize self.  See help(type(self)) for accurate signature.\n",
      " |\n",
      " |  __ior__(self, value, /)\n",
      " |      Return self|=value.\n",
      " |\n",
      " |  __iter__(self, /)\n",
      " |      Implement iter(self).\n",
      " |\n",
      " |  __le__(self, value, /)\n",
      " |      Return self<=value.\n",
      " |\n",
      " |  __len__(self, /)\n",
      " |      Return len(self).\n",
      " |\n",
      " |  __lt__(self, value, /)\n",
      " |      Return self<value.\n",
      " |\n",
      " |  __ne__(self, value, /)\n",
      " |      Return self!=value.\n",
      " |\n",
      " |  __or__(self, value, /)\n",
      " |      Return self|value.\n",
      " |\n",
      " |  __repr__(self, /)\n",
      " |      Return repr(self).\n",
      " |\n",
      " |  __reversed__(self, /)\n",
      " |      Return a reverse iterator over the dict keys.\n",
      " |\n",
      " |  __ror__(self, value, /)\n",
      " |      Return value|self.\n",
      " |\n",
      " |  __setitem__(self, key, value, /)\n",
      " |      Set self[key] to value.\n",
      " |\n",
      " |  __sizeof__(self, /)\n",
      " |      Return the size of the dict in memory, in bytes.\n",
      " |\n",
      " |  clear(self, /)\n",
      " |      Remove all items from the dict.\n",
      " |\n",
      " |  copy(self, /)\n",
      " |      Return a shallow copy of the dict.\n",
      " |\n",
      " |  get(self, key, default=None, /)\n",
      " |      Return the value for key if key is in the dictionary, else default.\n",
      " |\n",
      " |  items(self, /)\n",
      " |      Return a set-like object providing a view on the dict's items.\n",
      " |\n",
      " |  keys(self, /)\n",
      " |      Return a set-like object providing a view on the dict's keys.\n",
      " |\n",
      " |  pop(self, key, default=<unrepresentable>, /)\n",
      " |      D.pop(k[,d]) -> v, remove specified key and return the corresponding value.\n",
      " |\n",
      " |      If the key is not found, return the default if given; otherwise,\n",
      " |      raise a KeyError.\n",
      " |\n",
      " |  popitem(self, /)\n",
      " |      Remove and return a (key, value) pair as a 2-tuple.\n",
      " |\n",
      " |      Pairs are returned in LIFO (last-in, first-out) order.\n",
      " |      Raises KeyError if the dict is empty.\n",
      " |\n",
      " |  setdefault(self, key, default=None, /)\n",
      " |      Insert key with a value of default if key is not in the dictionary.\n",
      " |\n",
      " |      Return the value for key if key is in the dictionary, else default.\n",
      " |\n",
      " |  update(...)\n",
      " |      D.update([E, ]**F) -> None.  Update D from mapping/iterable E and F.\n",
      " |      If E is present and has a .keys() method, then does:  for k in E.keys(): D[k] = E[k]\n",
      " |      If E is present and lacks a .keys() method, then does:  for k, v in E: D[k] = v\n",
      " |      In either case, this is followed by: for k in F:  D[k] = F[k]\n",
      " |\n",
      " |  values(self, /)\n",
      " |      Return an object providing a view on the dict's values.\n",
      " |\n",
      " |  ----------------------------------------------------------------------\n",
      " |  Class methods defined here:\n",
      " |\n",
      " |  __class_getitem__(object, /)\n",
      " |      See PEP 585\n",
      " |\n",
      " |  fromkeys(iterable, value=None, /)\n",
      " |      Create a new dictionary with keys from iterable and values set to value.\n",
      " |\n",
      " |  ----------------------------------------------------------------------\n",
      " |  Static methods defined here:\n",
      " |\n",
      " |  __new__(*args, **kwargs)\n",
      " |      Create and return a new object.  See help(type) for accurate signature.\n",
      " |\n",
      " |  ----------------------------------------------------------------------\n",
      " |  Data and other attributes defined here:\n",
      " |\n",
      " |  __hash__ = None\n",
      "\n"
     ]
    }
   ],
   "source": [
    "help(dict)"
   ]
  },
  {
   "cell_type": "code",
   "execution_count": null,
   "id": "15e54933-2947-4ae7-954d-fec902056bde",
   "metadata": {},
   "outputs": [],
   "source": [
    "# How add new data to existing dict\n",
    "# dictname[\"newkey\"]=newvalue           (or)      dictname.setdefault(\"newkey\",value)"
   ]
  },
  {
   "cell_type": "code",
   "execution_count": 25,
   "id": "0d83eeab-23c5-4eee-951e-b3821ebb5158",
   "metadata": {},
   "outputs": [
    {
     "name": "stdout",
     "output_type": "stream",
     "text": [
      "{'k1': 'v1'}\n",
      "{'k1': 'v1', 'k2': 'v2'}\n"
     ]
    }
   ],
   "source": [
    "d={}\n",
    "d.setdefault(\"k1\",\"v1\")    # method based\n",
    "print(d)\n",
    "\n",
    "d[\"k2\"]=\"v2\"       # key based \n",
    "print(d)"
   ]
  },
  {
   "cell_type": "code",
   "execution_count": 26,
   "id": "907fbd9d-6dbe-43c1-a7b4-ca2d2a31b61e",
   "metadata": {},
   "outputs": [
    {
     "name": "stdout",
     "output_type": "stream",
     "text": [
      "v1\n",
      "v2\n"
     ]
    }
   ],
   "source": [
    "# how to fetch single data from dict\n",
    "# dictname[\"key\"] ====> value/ KeyError                  vs     dictname.get(key)  ===>  value/None\n",
    "print(d[\"k1\"])   # key based\n",
    "print(d.get(\"k2\"))   # method based"
   ]
  },
  {
   "cell_type": "code",
   "execution_count": 28,
   "id": "2706fc10-ae7e-40e1-82ed-cde1703d5760",
   "metadata": {},
   "outputs": [
    {
     "name": "stdout",
     "output_type": "stream",
     "text": [
      "{'k1': 'v1', 'k2': 'v2'}\n",
      "None\n"
     ]
    }
   ],
   "source": [
    "print(d)\n",
    "#print(d[\"k5\"])  # KeyError\n",
    "print(d.get(\"k5\"))"
   ]
  },
  {
   "cell_type": "code",
   "execution_count": 33,
   "id": "5e962d18-7719-4f81-b3b4-21a46077aa1b",
   "metadata": {},
   "outputs": [
    {
     "name": "stdout",
     "output_type": "stream",
     "text": [
      "{'k1': 'v1', 'k2': 'v2'}\n",
      "{'k2': 'v2'}\n",
      "v2\n",
      "{}\n"
     ]
    }
   ],
   "source": [
    "# How to delete data from dict?\n",
    "# del(d[\"key\"])                     (or)     dictname.pop(\"existingKey\")-----> removed value\n",
    "d={\"k1\":\"v1\", \"k2\":\"v2\"}\n",
    "print(d)\n",
    "del(d[\"k1\"])\n",
    "print(d)\n",
    "print(d.pop(\"k2\"))\n",
    "print(d)"
   ]
  },
  {
   "cell_type": "code",
   "execution_count": 34,
   "id": "a8ced4de-fc1c-4b91-8cf9-2e89a85238d5",
   "metadata": {},
   "outputs": [
    {
     "data": {
      "text/plain": [
       "'v1'"
      ]
     },
     "execution_count": 34,
     "metadata": {},
     "output_type": "execute_result"
    }
   ],
   "source": [
    "d={\"k1\":\"v1\", \"k2\":\"v2\"}\n",
    "d.pop(\"k1\")"
   ]
  },
  {
   "cell_type": "code",
   "execution_count": 35,
   "id": "1fd6947a-ed80-4235-a4f1-7ad2e498e9e6",
   "metadata": {},
   "outputs": [
    {
     "data": {
      "text/plain": [
       "{'k2': 'v2'}"
      ]
     },
     "execution_count": 35,
     "metadata": {},
     "output_type": "execute_result"
    }
   ],
   "source": [
    "d"
   ]
  },
  {
   "cell_type": "code",
   "execution_count": 36,
   "id": "82b713c4-abc4-4dcd-aa4b-26d965ec46ef",
   "metadata": {},
   "outputs": [
    {
     "ename": "KeyError",
     "evalue": "'k3'",
     "output_type": "error",
     "traceback": [
      "\u001b[1;31m---------------------------------------------------------------------------\u001b[0m",
      "\u001b[1;31mKeyError\u001b[0m                                  Traceback (most recent call last)",
      "Cell \u001b[1;32mIn[36], line 1\u001b[0m\n\u001b[1;32m----> 1\u001b[0m d\u001b[38;5;241m.\u001b[39mpop(\u001b[38;5;124m\"\u001b[39m\u001b[38;5;124mk3\u001b[39m\u001b[38;5;124m\"\u001b[39m)\n",
      "\u001b[1;31mKeyError\u001b[0m: 'k3'"
     ]
    }
   ],
   "source": [
    "d.pop(\"k3\")"
   ]
  },
  {
   "cell_type": "code",
   "execution_count": 37,
   "id": "7bedeae2-6c60-4781-8b35-d89640972b46",
   "metadata": {},
   "outputs": [
    {
     "ename": "KeyError",
     "evalue": "'k5'",
     "output_type": "error",
     "traceback": [
      "\u001b[1;31m---------------------------------------------------------------------------\u001b[0m",
      "\u001b[1;31mKeyError\u001b[0m                                  Traceback (most recent call last)",
      "Cell \u001b[1;32mIn[37], line 2\u001b[0m\n\u001b[0;32m      1\u001b[0m d\u001b[38;5;241m=\u001b[39m{\u001b[38;5;124m\"\u001b[39m\u001b[38;5;124mk1\u001b[39m\u001b[38;5;124m\"\u001b[39m:\u001b[38;5;124m\"\u001b[39m\u001b[38;5;124mv1\u001b[39m\u001b[38;5;124m\"\u001b[39m, \u001b[38;5;124m\"\u001b[39m\u001b[38;5;124mk2\u001b[39m\u001b[38;5;124m\"\u001b[39m:\u001b[38;5;124m\"\u001b[39m\u001b[38;5;124mv2\u001b[39m\u001b[38;5;124m\"\u001b[39m}\n\u001b[1;32m----> 2\u001b[0m \u001b[38;5;28;01mdel\u001b[39;00m(d[\u001b[38;5;124m\"\u001b[39m\u001b[38;5;124mk5\u001b[39m\u001b[38;5;124m\"\u001b[39m])\n",
      "\u001b[1;31mKeyError\u001b[0m: 'k5'"
     ]
    }
   ],
   "source": [
    "d={\"k1\":\"v1\", \"k2\":\"v2\"}\n",
    "del(d[\"k5\"])"
   ]
  },
  {
   "cell_type": "code",
   "execution_count": 38,
   "id": "bd86854c-d9eb-4617-bafd-3f88f5de3085",
   "metadata": {},
   "outputs": [
    {
     "name": "stdout",
     "output_type": "stream",
     "text": [
      "k1\n",
      "k2\n"
     ]
    }
   ],
   "source": [
    "for i in d:\n",
    "    print(i)"
   ]
  },
  {
   "cell_type": "code",
   "execution_count": 39,
   "id": "b42787fd-8748-4a2f-b419-8ad74b4d7178",
   "metadata": {},
   "outputs": [
    {
     "name": "stdout",
     "output_type": "stream",
     "text": [
      "k1\n",
      "k2\n"
     ]
    }
   ],
   "source": [
    "for i in d.keys():\n",
    "    print(i)"
   ]
  },
  {
   "cell_type": "code",
   "execution_count": 40,
   "id": "7a78b94b-a98d-4e5a-b67b-a094cdca7db1",
   "metadata": {},
   "outputs": [
    {
     "name": "stdout",
     "output_type": "stream",
     "text": [
      "v1\n",
      "v2\n"
     ]
    }
   ],
   "source": [
    "for i in d.values():\n",
    "    print(i)"
   ]
  },
  {
   "cell_type": "code",
   "execution_count": 41,
   "id": "e4846824-e488-45a4-908d-d7f03243fc6d",
   "metadata": {},
   "outputs": [
    {
     "name": "stdout",
     "output_type": "stream",
     "text": [
      "('k1', 'v1')\n",
      "('k2', 'v2')\n"
     ]
    }
   ],
   "source": [
    "for i in d.items():\n",
    "    print(i)"
   ]
  },
  {
   "cell_type": "code",
   "execution_count": null,
   "id": "66cd36f3-a5fa-405e-bb20-e5b616977ed4",
   "metadata": {},
   "outputs": [],
   "source": [
    "List                                       VS                                    dict\n",
    "----                                                                          ---------\n",
    "collection of ordered items                                   collection of unordered items\n",
    "\n",
    "mutable-> single data                                         mutable - data-> key:value pair\n",
    "\n",
    "index based access                                            key based access\n",
    "\n",
    "[]                                                            {}\n",
    "\n",
    "|d1|d2|d3|                                                   |key|array|\n",
    "  0 1   2                                                    |---------------|\n",
    "                                                             |  k1 | v1  |\n",
    "                                                             |  k2 | v2  |\n",
    "\n",
    "    listname[index]--> item/ IndexError        dictname[\"key\"]---> value/KeyError  (or)  dictname.get(\"key\")-> Value/None\n",
    "\n",
    "    listname.append(item)\n",
    "    listname.insert(index,item)                 dictname[\"newkey\"]=newvalue   (or)  dictname.setdefault(\"newkey\",\"newvalue\")\n",
    "\n",
    "    listname.pop() (or) listname.pop(index)       del(dictname[\"key\"]) (or) dictname.pop(\"key\")--> removed value/ keyerror"
   ]
  },
  {
   "cell_type": "markdown",
   "id": "7fcac8c4-074a-406f-912b-2ff20932c866",
   "metadata": {},
   "source": [
    "Set\n",
    "===\n",
    "\n",
    "str- colletcion of chars - index based - immutable\n",
    "s=\"abanac\" or  s='dd'\n",
    "\n",
    "list - collection of ordered elmts - index based - mutable\n",
    "L=['d1',3121,11.22,True]\n",
    "\n",
    "tuple - collection of ordered elmts - index based -immutable\n",
    "T=('d1',33.2,444,True)\n",
    "\n",
    "dict - collection of unordered items( key:value) - key based - mutable \n",
    "d={\"k1\":\"v1\", \"k2\":\"v2\"}   \n",
    "\n",
    "set- collection of unordered emnts - not index based - not key:value\n",
    "                              |\n",
    "                               Unique -> keys (No duplicates)"
   ]
  },
  {
   "cell_type": "code",
   "execution_count": null,
   "id": "9c4f1cfb-4847-4770-84c7-dd8b80ef8bd1",
   "metadata": {},
   "outputs": [],
   "source": [
    "s={\"k1\",\"k2\",\"k3\"}                   vs  d={\"k1\":\"v1\", \"k2\":\"v2}\n",
    "    --  --    ---                           ---------   -------   \n",
    "                                            "
   ]
  },
  {
   "cell_type": "code",
   "execution_count": 44,
   "id": "b20aae52-ebe6-438f-ab20-b3571b0df4a7",
   "metadata": {},
   "outputs": [
    {
     "name": "stdout",
     "output_type": "stream",
     "text": [
      "{None, True, 'k2', 11.222, b'2hdhjd', 11, 'k1'}\n"
     ]
    }
   ],
   "source": [
    "s={\"k1\",\"k2\",11,11.222,True,None,b'2hdhjd'}   # int,float,bool,None,str\n",
    "print(s)"
   ]
  },
  {
   "cell_type": "code",
   "execution_count": 45,
   "id": "1d8d987e-ef4e-4c35-95c6-4f670feaebd5",
   "metadata": {},
   "outputs": [
    {
     "name": "stdout",
     "output_type": "stream",
     "text": [
      "{1, 2, 3, 4}\n"
     ]
    }
   ],
   "source": [
    "s={1,2,3,4,1,2,3,4,1,2,3,4}   # unique elements\n",
    "print(s)"
   ]
  },
  {
   "cell_type": "code",
   "execution_count": 46,
   "id": "1946e1b9-557a-42cd-9320-c1401917ec98",
   "metadata": {},
   "outputs": [
    {
     "name": "stdout",
     "output_type": "stream",
     "text": [
      "<class 'dict'>\n"
     ]
    }
   ],
   "source": [
    "d={}\n",
    "print(type(d))"
   ]
  },
  {
   "cell_type": "code",
   "execution_count": 47,
   "id": "4db62b0d-d04d-47ec-b26b-093062116a9f",
   "metadata": {},
   "outputs": [
    {
     "name": "stdout",
     "output_type": "stream",
     "text": [
      "<class 'set'>\n"
     ]
    }
   ],
   "source": [
    "s=set()  # constructor in oop\n",
    "print(type(s))"
   ]
  },
  {
   "cell_type": "code",
   "execution_count": 48,
   "id": "adea0140-fa85-42e2-bd88-abfd98f3600b",
   "metadata": {},
   "outputs": [
    {
     "ename": "TypeError",
     "evalue": "unhashable type: 'list'",
     "output_type": "error",
     "traceback": [
      "\u001b[1;31m---------------------------------------------------------------------------\u001b[0m",
      "\u001b[1;31mTypeError\u001b[0m                                 Traceback (most recent call last)",
      "Cell \u001b[1;32mIn[48], line 1\u001b[0m\n\u001b[1;32m----> 1\u001b[0m s\u001b[38;5;241m=\u001b[39m{\u001b[38;5;241m10\u001b[39m,\u001b[38;5;241m20\u001b[39m,\u001b[38;5;241m10\u001b[39m,\u001b[38;5;241m20\u001b[39m,\u001b[38;5;124m\"\u001b[39m\u001b[38;5;124md1\u001b[39m\u001b[38;5;124m\"\u001b[39m,\u001b[38;5;124m\"\u001b[39m\u001b[38;5;124md2\u001b[39m\u001b[38;5;124m\"\u001b[39m,[\u001b[38;5;241m10\u001b[39m,\u001b[38;5;241m20\u001b[39m]}\n",
      "\u001b[1;31mTypeError\u001b[0m: unhashable type: 'list'"
     ]
    }
   ],
   "source": [
    "s={10,20,10,20,\"d1\",\"d2\",[10,20]}"
   ]
  },
  {
   "cell_type": "code",
   "execution_count": 51,
   "id": "0091d74a-b31f-43a6-9ec2-b94e1f5e6a3c",
   "metadata": {},
   "outputs": [
    {
     "name": "stdout",
     "output_type": "stream",
     "text": [
      "{None, True, 'k2', 11.222, b'2hdhjd', 11, 'k1'}\n",
      "<class 'set'>\n"
     ]
    }
   ],
   "source": [
    "# How to add new element to set\n",
    "#setname.add(Single)\n",
    "s={\"k1\",\"k2\",11,11.222,True,None,b'2hdhjd'} \n",
    "print(s)\n",
    "print(type(s))"
   ]
  },
  {
   "cell_type": "code",
   "execution_count": 52,
   "id": "64979e9e-5270-498d-b285-7127a3da763a",
   "metadata": {},
   "outputs": [
    {
     "name": "stdout",
     "output_type": "stream",
     "text": [
      "{None, True, 'k2', 10, 11.222, b'2hdhjd', 11, 'k1'}\n"
     ]
    }
   ],
   "source": [
    "s.add(10)\n",
    "print(s)"
   ]
  },
  {
   "cell_type": "code",
   "execution_count": 53,
   "id": "f1ed605f-96b7-4535-a1d2-40476cfcf6b5",
   "metadata": {},
   "outputs": [
    {
     "name": "stdout",
     "output_type": "stream",
     "text": [
      "{None, True, 'k2', 10, 11.222, b'2hdhjd', 11, 'k1'}\n"
     ]
    }
   ],
   "source": [
    "s.add(10)\n",
    "s.add(10)\n",
    "print(s)\n"
   ]
  },
  {
   "cell_type": "code",
   "execution_count": 54,
   "id": "82d0d479-6531-40f5-9110-9788ec33647e",
   "metadata": {},
   "outputs": [
    {
     "data": {
      "text/plain": [
       "8"
      ]
     },
     "execution_count": 54,
     "metadata": {},
     "output_type": "execute_result"
    }
   ],
   "source": [
    "len(s)"
   ]
  },
  {
   "cell_type": "code",
   "execution_count": 60,
   "id": "b1bf06d9-0acf-46d7-bb57-2641a69793c9",
   "metadata": {},
   "outputs": [
    {
     "name": "stdout",
     "output_type": "stream",
     "text": [
      "{True, 200, 10, 11.222, 11, 'd3', 'k2', 'data2\\n', None, 100, b'2hdhjd', 'd1', 'data1\\n', 'k1', 'd2'}\n",
      "{True, 200, 10, 11.222, 11, 'd3', 'k2', 'data2\\n', None, 100, b'2hdhjd', 'd1', 'data1\\n', 'k1', 'd2'}\n",
      "{True, 200, 10, 11.222, 11, 'd3', 'k2', 'data2\\n', None, 100, b'2hdhjd', 'd1', 'data1\\n', 'k1', 'd2'}\n",
      "{True, 2, 3, 4, 200, 10, 11.222, 11, 'd3', 'k2', 'data2\\n', None, 100, b'2hdhjd', 'd1', 'data1\\n', 'k1', 'd2'}\n"
     ]
    }
   ],
   "source": [
    "#How to add collection  - list, tuple, dict, set\n",
    "#setname.update(collection)\n",
    "print(s)\n",
    "s.update([100,200])\n",
    "print(s)\n",
    "s.update((\"data1\\n\",\"data2\\n\"))\n",
    "print(s)\n",
    "s1={1,2,3,4}\n",
    "\n",
    "s.update(s1)\n",
    "print(s)"
   ]
  },
  {
   "cell_type": "code",
   "execution_count": 65,
   "id": "e5d33f7c-8701-4859-a648-0ccc804aabd5",
   "metadata": {},
   "outputs": [
    {
     "name": "stdout",
     "output_type": "stream",
     "text": [
      "{True, 2, 3, 4, 200, 10, 11.222, 11, 'd3', 'k2', 'data2\\n', None, 100, b'2hdhjd', 'd1', 'data1\\n', 'k1', 'd2'}\n",
      "{2, 3, 4, 200, 10, 11.222, 11, 'd3', 'k2', 'data2\\n', None, 100, b'2hdhjd', 'd1', 'data1\\n', 'k1', 'd2'}\n",
      "{2, 3, 4, 10, 11.222, 11, 'd3', 'k2', 'data2\\n', None, 100, b'2hdhjd', 'd1', 'data1\\n', 'k1', 'd2'}\n"
     ]
    }
   ],
   "source": [
    "s={True, 2, 3, 4, 200, 10, 11.222, 11, 'd3', 'k2', 'data2\\n', None, 100, b'2hdhjd', 'd1', 'data1\\n', 'k1', 'd2'}\n",
    "print(s)\n",
    "# setname.remove(element)\n",
    "s.remove(True)\n",
    "print(s)\n",
    "\n",
    "# setname.discard(element)\n",
    "s.discard(200)\n",
    "print(s)"
   ]
  },
  {
   "cell_type": "code",
   "execution_count": 66,
   "id": "9514217d-196b-49d0-9f13-1f266683bcbe",
   "metadata": {},
   "outputs": [
    {
     "ename": "KeyError",
     "evalue": "True",
     "output_type": "error",
     "traceback": [
      "\u001b[1;31m---------------------------------------------------------------------------\u001b[0m",
      "\u001b[1;31mKeyError\u001b[0m                                  Traceback (most recent call last)",
      "Cell \u001b[1;32mIn[66], line 2\u001b[0m\n\u001b[0;32m      1\u001b[0m s\u001b[38;5;241m=\u001b[39m{\u001b[38;5;241m2\u001b[39m, \u001b[38;5;241m3\u001b[39m, \u001b[38;5;241m4\u001b[39m, \u001b[38;5;241m10\u001b[39m, \u001b[38;5;241m11.222\u001b[39m, \u001b[38;5;241m11\u001b[39m, \u001b[38;5;124m'\u001b[39m\u001b[38;5;124md3\u001b[39m\u001b[38;5;124m'\u001b[39m, \u001b[38;5;124m'\u001b[39m\u001b[38;5;124mk2\u001b[39m\u001b[38;5;124m'\u001b[39m, \u001b[38;5;124m'\u001b[39m\u001b[38;5;124mdata2\u001b[39m\u001b[38;5;130;01m\\n\u001b[39;00m\u001b[38;5;124m'\u001b[39m, \u001b[38;5;28;01mNone\u001b[39;00m, \u001b[38;5;241m100\u001b[39m, \u001b[38;5;124mb\u001b[39m\u001b[38;5;124m'\u001b[39m\u001b[38;5;124m2hdhjd\u001b[39m\u001b[38;5;124m'\u001b[39m, \u001b[38;5;124m'\u001b[39m\u001b[38;5;124md1\u001b[39m\u001b[38;5;124m'\u001b[39m, \u001b[38;5;124m'\u001b[39m\u001b[38;5;124mdata1\u001b[39m\u001b[38;5;130;01m\\n\u001b[39;00m\u001b[38;5;124m'\u001b[39m, \u001b[38;5;124m'\u001b[39m\u001b[38;5;124mk1\u001b[39m\u001b[38;5;124m'\u001b[39m, \u001b[38;5;124m'\u001b[39m\u001b[38;5;124md2\u001b[39m\u001b[38;5;124m'\u001b[39m}\n\u001b[1;32m----> 2\u001b[0m s\u001b[38;5;241m.\u001b[39mremove(\u001b[38;5;28;01mTrue\u001b[39;00m)\n",
      "\u001b[1;31mKeyError\u001b[0m: True"
     ]
    }
   ],
   "source": [
    "s={2, 3, 4, 10, 11.222, 11, 'd3', 'k2', 'data2\\n', None, 100, b'2hdhjd', 'd1', 'data1\\n', 'k1', 'd2'}\n",
    "s.remove(True) # not exist in set"
   ]
  },
  {
   "cell_type": "code",
   "execution_count": 68,
   "id": "01f5a75b-79b7-4e14-a228-606034aa63a1",
   "metadata": {},
   "outputs": [
    {
     "name": "stdout",
     "output_type": "stream",
     "text": [
      "None\n"
     ]
    }
   ],
   "source": [
    "s={2, 3, 4, 10, 11.222, 11, 'd3', 'k2', 'data2\\n', None, 100, b'2hdhjd', 'd1', 'data1\\n', 'k1', 'd2'}\n",
    "print(s.discard(True))  # no keyError"
   ]
  },
  {
   "cell_type": "code",
   "execution_count": 69,
   "id": "7c96ae01-fcd8-4a90-ac60-125cdc90d6db",
   "metadata": {},
   "outputs": [
    {
     "name": "stdout",
     "output_type": "stream",
     "text": [
      "{1, 2, 3, 4, 5, 7, 8, 9}\n",
      "{1, 2, 3, 4, 5, 7, 8, 9}\n",
      "{1, 2, 3, 4, 5, 7, 8, 9}\n",
      "{1, 2, 3, 4, 5, 7, 8, 9}\n"
     ]
    }
   ],
   "source": [
    "A={1,2,3,4,5}\n",
    "B={1,2,3,7,8,9}\n",
    "print(A.union(B))\n",
    "print(B.union(A))\n",
    "print(A|B)\n",
    "print(B|A)"
   ]
  },
  {
   "cell_type": "code",
   "execution_count": 70,
   "id": "6b189f69-c464-492f-8ecc-fd1a6403ad8b",
   "metadata": {},
   "outputs": [
    {
     "name": "stdout",
     "output_type": "stream",
     "text": [
      "{1, 2, 3}\n",
      "{1, 2, 3}\n",
      "{1, 2, 3}\n",
      "{1, 2, 3}\n"
     ]
    }
   ],
   "source": [
    "print(A.intersection(B))\n",
    "print(B.intersection(A))\n",
    "print(A&B)\n",
    "print(B&A)"
   ]
  },
  {
   "cell_type": "code",
   "execution_count": 71,
   "id": "32d9c4cf-95d4-436b-82fb-ead962f4eead",
   "metadata": {},
   "outputs": [
    {
     "name": "stdout",
     "output_type": "stream",
     "text": [
      "{1, 2, 3, 4, 5} <class 'set'>\n",
      "[1, 2, 3, 4, 5] <class 'list'>\n"
     ]
    }
   ],
   "source": [
    "print(A, type(A))\n",
    "listA=list(A)    # typecast to list\n",
    "print(listA, type(listA))"
   ]
  },
  {
   "cell_type": "code",
   "execution_count": 72,
   "id": "43d9abf7-65b9-459e-8f73-c2fa4b2dbba2",
   "metadata": {},
   "outputs": [
    {
     "name": "stdout",
     "output_type": "stream",
     "text": [
      "[1, 2, 3, 4, 5, 6, 7, 111, 1, 1, 1] <class 'list'>\n",
      "{1, 2, 3, 4, 5, 6, 7, 111} <class 'set'>\n"
     ]
    }
   ],
   "source": [
    "L=[1,2,3,4,5,6,7,111,1,1,1]\n",
    "s=set(L)\n",
    "print(L,type(L))\n",
    "print(s,type(s))"
   ]
  },
  {
   "cell_type": "code",
   "execution_count": 73,
   "id": "e2dcda1b-16a4-4051-8f3f-f24ef76a232c",
   "metadata": {},
   "outputs": [
    {
     "name": "stdout",
     "output_type": "stream",
     "text": [
      "A only elements:  {4, 5}\n",
      "B only elements:  {8, 9, 7}\n",
      "A only elements:  {4, 5}\n",
      "B only elements:  {8, 9, 7}\n"
     ]
    }
   ],
   "source": [
    "print(\"A only elements: \", A-B)\n",
    "print(\"B only elements: \", B-A)\n",
    "print(\"A only elements: \", A.difference(B))\n",
    "print(\"B only elements: \", B.difference(A))"
   ]
  },
  {
   "cell_type": "code",
   "execution_count": 74,
   "id": "3cc4250b-8753-4edf-af2e-efa02c576009",
   "metadata": {},
   "outputs": [
    {
     "name": "stdout",
     "output_type": "stream",
     "text": [
      "A and B without repeated element in A and B : {4, 5, 7, 8, 9}\n",
      "A and B without repeated element in A and B : {4, 5, 7, 8, 9}\n",
      "A and B without repeated element in A and B : {4, 5, 7, 8, 9}\n",
      "A and B without repeated element in A and B : {4, 5, 7, 8, 9}\n"
     ]
    }
   ],
   "source": [
    "print(\"A and B without repeated element in A and B :\", A^B)\n",
    "print(\"A and B without repeated element in A and B :\", B^A)\n",
    "print(\"A and B without repeated element in A and B :\", A.symmetric_difference(B))\n",
    "print(\"A and B without repeated element in A and B :\", B.symmetric_difference(A))"
   ]
  },
  {
   "cell_type": "code",
   "execution_count": null,
   "id": "d6047b1d-bac8-4846-82fa-f7a755193bbd",
   "metadata": {},
   "outputs": [],
   "source": [
    "json object ===> dict of list,tuple,dict"
   ]
  },
  {
   "cell_type": "code",
   "execution_count": null,
   "id": "81673e07-419d-4476-987a-2b852f7350e7",
   "metadata": {},
   "outputs": [],
   "source": [
    "Multidimensional structure\n",
    "-------------------------\n",
    "recap- List   Listname[index]\n",
    "       tuple  tuplename[index]\n",
    "       dict    dictname['key']\n",
    "List of List,Tuple,dict          ----> L= [[],(),{}]\n",
    "                                            0  1  2\n",
    "Tuple of list,tuple,dict       -----> T=([],(),{})\n",
    "                                          0  1  2\n",
    "dict of  list,tuple,dict       -------> d={\"k1\":[], \"k2\":(), \"k3\":{}}\n",
    "                                                 |        |        |\n",
    "                                             d[\"k1\"]    d[\"k2\"]    d[\"k3\"]"
   ]
  },
  {
   "cell_type": "code",
   "execution_count": 76,
   "id": "c4e426eb-de50-4077-8a8d-7ea986dca8a8",
   "metadata": {},
   "outputs": [],
   "source": [
    "L=[10,20,\"data\", [\"RHL5\",\"OL5\",\"OL6\"] , (\"OL7\",\"OL8\") ]\n",
    " #  0  1   2     --------------------    -----------\n",
    " #                     3                      4"
   ]
  },
  {
   "cell_type": "raw",
   "id": "bd57ede6-80fa-41dd-b9c3-846433d099da",
   "metadata": {},
   "source": [
    "L[0] ==> 10\n",
    "L[1] ==> 20\n",
    "L[2] ==> \"data\"\n",
    "L[3] ==> [\"RHL5\",\"OL5\",\"OL6\"]\n",
    "L[4] ==> (\"OL7\",\"OL8\")"
   ]
  },
  {
   "cell_type": "code",
   "execution_count": 78,
   "id": "954d9dd8-d5fe-4cba-b598-ac7ba8b5920b",
   "metadata": {},
   "outputs": [
    {
     "name": "stdout",
     "output_type": "stream",
     "text": [
      "['RHL5', 'OL5', 'OL6']\n"
     ]
    }
   ],
   "source": [
    "print(L[3])"
   ]
  },
  {
   "cell_type": "code",
   "execution_count": 79,
   "id": "e27ca349-22d7-4ae2-9e08-68e25dea1b86",
   "metadata": {},
   "outputs": [
    {
     "name": "stdout",
     "output_type": "stream",
     "text": [
      "('OL7', 'OL8')\n"
     ]
    }
   ],
   "source": [
    "print(L[4])"
   ]
  },
  {
   "cell_type": "code",
   "execution_count": 80,
   "id": "62873eca-fc34-4d99-8ad1-f8aac12937a5",
   "metadata": {},
   "outputs": [
    {
     "name": "stdout",
     "output_type": "stream",
     "text": [
      "[10, 20, 'data', ['RHL5', 'OL5', 'OL6'], ('OL7', 'OL8'), ('data1', 'data2')]\n"
     ]
    }
   ],
   "source": [
    "L.append((\"data1\",\"data2\"))\n",
    "print(L)"
   ]
  },
  {
   "cell_type": "code",
   "execution_count": 81,
   "id": "41f7c081-75b0-423e-9659-b771cbaf6ad7",
   "metadata": {},
   "outputs": [
    {
     "data": {
      "text/plain": [
       "('data1', 'data2')"
      ]
     },
     "execution_count": 81,
     "metadata": {},
     "output_type": "execute_result"
    }
   ],
   "source": [
    "L[-1]"
   ]
  },
  {
   "cell_type": "code",
   "execution_count": 82,
   "id": "3b426828-0f36-41f7-9525-7aa54d75f9ef",
   "metadata": {},
   "outputs": [
    {
     "data": {
      "text/plain": [
       "[['RHL5', 'OL5', 'OL6'], ('OL7', 'OL8'), ('data1', 'data2')]"
      ]
     },
     "execution_count": 82,
     "metadata": {},
     "output_type": "execute_result"
    }
   ],
   "source": [
    "L[3:]"
   ]
  },
  {
   "cell_type": "code",
   "execution_count": 86,
   "id": "bfdbc0f9-4e33-403a-901e-7eec5ef7d8cc",
   "metadata": {},
   "outputs": [
    {
     "data": {
      "text/plain": [
       "['RHL5', 'OL5', 'OL6']"
      ]
     },
     "execution_count": 86,
     "metadata": {},
     "output_type": "execute_result"
    }
   ],
   "source": [
    "L[3]  # innerList name          -   ['RHL5', 'OL5', 'OL6']\n",
    "                                #       0       1       2"
   ]
  },
  {
   "cell_type": "code",
   "execution_count": 87,
   "id": "a98dcee5-1d64-4dd8-8663-1b79bb0be3e3",
   "metadata": {},
   "outputs": [
    {
     "data": {
      "text/plain": [
       "'RHL5'"
      ]
     },
     "execution_count": 87,
     "metadata": {},
     "output_type": "execute_result"
    }
   ],
   "source": [
    "# Listname[index] --> value\n",
    "L[3][0]\n"
   ]
  },
  {
   "cell_type": "code",
   "execution_count": 88,
   "id": "521d4a23-c3c5-44ec-bf00-696406ce961e",
   "metadata": {},
   "outputs": [
    {
     "data": {
      "text/plain": [
       "'OL5'"
      ]
     },
     "execution_count": 88,
     "metadata": {},
     "output_type": "execute_result"
    }
   ],
   "source": [
    "L[3][1]"
   ]
  },
  {
   "cell_type": "code",
   "execution_count": 89,
   "id": "ef166409-ce40-4db7-a263-2f46db7272bb",
   "metadata": {},
   "outputs": [
    {
     "data": {
      "text/plain": [
       "'OL6'"
      ]
     },
     "execution_count": 89,
     "metadata": {},
     "output_type": "execute_result"
    }
   ],
   "source": [
    "L[3][2]"
   ]
  },
  {
   "cell_type": "code",
   "execution_count": null,
   "id": "43298163-7357-481f-a7bc-66f564192534",
   "metadata": {},
   "outputs": [],
   "source": [
    "# listname.append(value)     (or) listname.insert(index,value)\n"
   ]
  },
  {
   "cell_type": "code",
   "execution_count": 91,
   "id": "60030a7c-9138-4e75-8742-73867c912541",
   "metadata": {},
   "outputs": [
    {
     "name": "stdout",
     "output_type": "stream",
     "text": [
      "[10, 20, 'data', ['RHL5', 'OL5', 'OL6'], ('OL7', 'OL8'), ('data1', 'data2')]\n",
      "[10, 20, 'data', ['RHL5', 'OL5', 'OL6', 'RHL8'], ('OL7', 'OL8'), ('data1', 'data2')]\n"
     ]
    }
   ],
   "source": [
    "print(L)\n",
    "L[3].append('RHL8')\n",
    "print(L)"
   ]
  },
  {
   "cell_type": "code",
   "execution_count": 93,
   "id": "7427d43b-50df-4b91-81cd-7a004d23907e",
   "metadata": {},
   "outputs": [
    {
     "ename": "TypeError",
     "evalue": "'tuple' object does not support item assignment",
     "output_type": "error",
     "traceback": [
      "\u001b[1;31m---------------------------------------------------------------------------\u001b[0m",
      "\u001b[1;31mTypeError\u001b[0m                                 Traceback (most recent call last)",
      "Cell \u001b[1;32mIn[93], line 3\u001b[0m\n\u001b[0;32m      1\u001b[0m \u001b[38;5;66;03m#  [10, 20, 'data', ['RHL5', 'OL5', 'OL6', 'RHL8'], ('OL7', 'OL8'), ('data1', 'data2')]\u001b[39;00m\n\u001b[0;32m      2\u001b[0m \u001b[38;5;66;03m#   0   1      2             3                           4                5\u001b[39;00m\n\u001b[1;32m----> 3\u001b[0m L[\u001b[38;5;241m4\u001b[39m][\u001b[38;5;241m0\u001b[39m]\u001b[38;5;241m=\u001b[39m\u001b[38;5;241m10\u001b[39m\n",
      "\u001b[1;31mTypeError\u001b[0m: 'tuple' object does not support item assignment"
     ]
    }
   ],
   "source": [
    "#  [10, 20, 'data', ['RHL5', 'OL5', 'OL6', 'RHL8'], ('OL7', 'OL8'), ('data1', 'data2')]\n",
    "#   0   1      2             3                           4                5\n",
    "L[4][0]=10   # we cant modify"
   ]
  },
  {
   "cell_type": "code",
   "execution_count": 94,
   "id": "90fd7488-0c04-4b25-8abe-e3772687f571",
   "metadata": {},
   "outputs": [
    {
     "name": "stdout",
     "output_type": "stream",
     "text": [
      "[10, 20, 'data', ['RHL7', 'OL5', 'OL6', 'RHL8'], ('OL7', 'OL8'), ('data1', 'data2')]\n"
     ]
    }
   ],
   "source": [
    "L[-3][0]=\"RHL7\"  # we can modify\n",
    "print(L)"
   ]
  },
  {
   "cell_type": "code",
   "execution_count": 96,
   "id": "6a49b3eb-1374-496c-a6af-41224e7a44b7",
   "metadata": {},
   "outputs": [
    {
     "name": "stdout",
     "output_type": "stream",
     "text": [
      "[10, [], (), {}, {1, 2}]\n",
      "(11, [], (), {})\n"
     ]
    }
   ],
   "source": [
    "L=[10,[],(),{},{1,2}]\n",
    "print(L)\n",
    "T=(11,[],(),{})\n",
    "print(T)\n",
    "\n",
    "s={immutable elmts}  # s={1,2,[]}#error"
   ]
  },
  {
   "cell_type": "code",
   "execution_count": 97,
   "id": "67ed5fb7-4649-450e-91c1-11b6e9baea50",
   "metadata": {},
   "outputs": [
    {
     "name": "stdout",
     "output_type": "stream",
     "text": [
      "<class 'list'>\n",
      "<class 'list'>\n",
      "<class 'tuple'>\n",
      "RHL7\n",
      "OL7\n"
     ]
    }
   ],
   "source": [
    "L=[10,\"data\",['RHL7', 'OL5', 'OL6', 'RHL8'], ('OL7', 'OL8') ]\n",
    "print(type(L))\n",
    "print(type(L[2]))\n",
    "print(type(L[-1]))\n",
    "print(L[2][0])\n",
    "print(L[-1][0]) "
   ]
  },
  {
   "cell_type": "code",
   "execution_count": 100,
   "id": "1d91e36d-1ef7-4080-a129-4d4de13a90cb",
   "metadata": {},
   "outputs": [
    {
     "name": "stdout",
     "output_type": "stream",
     "text": [
      "<class 'list'>\n",
      "<class 'dict'> <class 'dict'>\n"
     ]
    }
   ],
   "source": [
    "L=[{\"k1\":\"v1\", \"k2\":\"v2\" }, {\"k1\":\"v1\",\"k2\":\"v2\",\"k3\":1.34}]\n",
    "#   ----------------------   ------------------------------\n",
    "#        0                            1\n",
    "\n",
    "print(type(L))  # list\n",
    "print(type(L[0]), type(L[-1]))  # dict dict\n"
   ]
  },
  {
   "cell_type": "code",
   "execution_count": 101,
   "id": "025b18d1-be78-4597-a5fe-d9c65376fc53",
   "metadata": {},
   "outputs": [
    {
     "name": "stdout",
     "output_type": "stream",
     "text": [
      "v1\n"
     ]
    }
   ],
   "source": [
    "print(L[0][\"k1\"])                          # dictname[\"key\"]===> value     (or)   dictname.get(\"key\")"
   ]
  },
  {
   "cell_type": "code",
   "execution_count": 102,
   "id": "f72e0ad3-9d02-4cd3-b974-3079e9315c1b",
   "metadata": {},
   "outputs": [
    {
     "name": "stdout",
     "output_type": "stream",
     "text": [
      "v2\n"
     ]
    }
   ],
   "source": [
    "print(L[0][\"k2\"])"
   ]
  },
  {
   "cell_type": "code",
   "execution_count": 103,
   "id": "a3f77568-995e-4ed6-a64d-2105c8c125fa",
   "metadata": {},
   "outputs": [
    {
     "name": "stdout",
     "output_type": "stream",
     "text": [
      "v1\n"
     ]
    }
   ],
   "source": [
    "print(L[0].get(\"k1\"))"
   ]
  },
  {
   "cell_type": "code",
   "execution_count": 104,
   "id": "c49d517b-d8d1-4d09-af19-4e6f6f882d11",
   "metadata": {},
   "outputs": [
    {
     "name": "stdout",
     "output_type": "stream",
     "text": [
      "v2\n"
     ]
    }
   ],
   "source": [
    "print(L[0].get(\"k2\"))"
   ]
  },
  {
   "cell_type": "code",
   "execution_count": null,
   "id": "74d6a731-e934-44f4-ab88-55d3f7c5bd1b",
   "metadata": {},
   "outputs": [],
   "source": [
    "d={}\n",
    "d[\"k1\"]=v1    # dictname[newkey]=newvalue   (or)   dictname.setdefault(newkey,newvalue)\n"
   ]
  },
  {
   "cell_type": "code",
   "execution_count": 105,
   "id": "57340731-af84-4bd7-9fca-3219f3bfe36d",
   "metadata": {},
   "outputs": [
    {
     "data": {
      "text/plain": [
       "[{'k1': 'v1', 'k2': 'v2'}, {'k1': 'v1', 'k2': 'v2', 'k3': 1.34}]"
      ]
     },
     "execution_count": 105,
     "metadata": {},
     "output_type": "execute_result"
    }
   ],
   "source": [
    "L"
   ]
  },
  {
   "cell_type": "code",
   "execution_count": 106,
   "id": "ef6e28e2-fa53-4cd0-9b9f-13a1eef2d0a7",
   "metadata": {},
   "outputs": [
    {
     "name": "stdout",
     "output_type": "stream",
     "text": [
      "[{'k1': 'v1', 'k2': 'v2', 'k3': 'v3'}, {'k1': 'v1', 'k2': 'v2', 'k3': 1.34}]\n"
     ]
    }
   ],
   "source": [
    "L[0][\"k3\"]=\"v3\"\n",
    "print(L)"
   ]
  },
  {
   "cell_type": "code",
   "execution_count": 107,
   "id": "34f71acc-c62e-4178-9e17-fad3763f6ea3",
   "metadata": {},
   "outputs": [
    {
     "name": "stdout",
     "output_type": "stream",
     "text": [
      "[{'k1': 'v1', 'k2': 'v2', 'k3': 'v3', 'k4': 'v4'}, {'k1': 'v1', 'k2': 'v2', 'k3': 1.34}]\n"
     ]
    }
   ],
   "source": [
    "L[0].setdefault(\"k4\",\"v4\")\n",
    "print(L)"
   ]
  },
  {
   "cell_type": "code",
   "execution_count": 110,
   "id": "ab010d39-3dc6-4b10-9320-8f6e4ee4757b",
   "metadata": {},
   "outputs": [
    {
     "data": {
      "text/plain": [
       "[{'k1': 'v1', 'k2': 'v2', 'k3': 'v3', 'k4': 'v4'},\n",
       " {'k1': 'v1', 'k2': 'v2', 'k3': 1.34},\n",
       " 100,\n",
       " [10, 20, 30, 'D1', 'D2'],\n",
       " ('d1', 'd2'),\n",
       " {'port': 8080, 'service': 'app1', 'fname': 'pp.log'}]"
      ]
     },
     "execution_count": 110,
     "metadata": {},
     "output_type": "execute_result"
    }
   ],
   "source": [
    "L=[{'k1': 'v1', 'k2': 'v2', 'k3': 'v3', 'k4': 'v4'}, {'k1': 'v1', 'k2': 'v2', 'k3': 1.34}]\n",
    "L.append(100)\n",
    "L.append([10,20,30,'D1','D2'])   # list of List\n",
    "L.append(('d1','d2'))    # List of Tuple\n",
    "L.append({\"port\":8080, \"service\":'app1', 'fname':\"pp.log\"})   # list of dict\n",
    "L"
   ]
  },
  {
   "cell_type": "code",
   "execution_count": 111,
   "id": "c51657c6-0b4a-4264-a1b6-b8b0faef7a76",
   "metadata": {},
   "outputs": [
    {
     "name": "stdout",
     "output_type": "stream",
     "text": [
      "[{'k1': 'v1', 'k2': 'v2', 'k3': 'v3', 'k4': 'v4'}, {'k1': 'v1', 'k2': 'v2', 'k3': 1.34}, 100, [10, 20, 30, 'D1', 'D2'], ('d1', 'd2'), {'port': 5000, 'service': 'app1', 'fname': 'pp.log'}]\n"
     ]
    }
   ],
   "source": [
    "L[5]['port'] = 5000\n",
    "print(L)"
   ]
  },
  {
   "cell_type": "code",
   "execution_count": 112,
   "id": "e3e9787c-9999-4bd6-9271-f2a601dceab5",
   "metadata": {},
   "outputs": [
    {
     "name": "stdout",
     "output_type": "stream",
     "text": [
      "[{'k1': 'v1', 'k2': 'v2', 'k3': 'v3', 'k4': 'v4'},\n",
      " {'k1': 'v1', 'k2': 'v2', 'k3': 1.34},\n",
      " 100,\n",
      " [10, 20, 30, 'D1', 'D2'],\n",
      " ('d1', 'd2'),\n",
      " {'fname': 'pp.log', 'port': 5000, 'service': 'app1'}]\n"
     ]
    }
   ],
   "source": [
    "import pprint\n",
    "pprint.pprint(L)"
   ]
  },
  {
   "cell_type": "code",
   "execution_count": 113,
   "id": "c9bce740-2d04-41bd-9504-a2f6ea6b18f2",
   "metadata": {},
   "outputs": [
    {
     "name": "stdout",
     "output_type": "stream",
     "text": [
      "<class 'tuple'> 3\n"
     ]
    }
   ],
   "source": [
    "t=(['d1','d2'], ('d3','d4'),{'k1':'v1','k2':22})\n",
    "#   ==========   ========== ==================\n",
    "#       0           1           2\n",
    "print(type(t),len(t))"
   ]
  },
  {
   "cell_type": "code",
   "execution_count": 114,
   "id": "43289ba4-8ff6-49b3-8617-525860f80465",
   "metadata": {},
   "outputs": [
    {
     "name": "stdout",
     "output_type": "stream",
     "text": [
      "['d1', 'd2'] <class 'list'>\n",
      "('d3', 'd4') <class 'tuple'>\n",
      "{'k1': 'v1', 'k2': 22} <class 'dict'>\n"
     ]
    }
   ],
   "source": [
    "print(t[0],type(t[0]))\n",
    "print(t[1],type(t[1]))\n",
    "print(t[-1],type(t[-1]))    "
   ]
  },
  {
   "cell_type": "code",
   "execution_count": 119,
   "id": "4d04b3bf-b9d3-4a3a-8f87-fcf0fcab7183",
   "metadata": {},
   "outputs": [],
   "source": [
    "#t.append(\"d1\")  # Attributeerror\n",
    "t[0].append(\"d2\")\n",
    "#t[1].append(\"d3\")  #AttributeError\n"
   ]
  },
  {
   "cell_type": "code",
   "execution_count": 117,
   "id": "36f18b0b-5a44-47e5-b6a9-5cfb4551f38e",
   "metadata": {},
   "outputs": [
    {
     "data": {
      "text/plain": [
       "(['d1', 'd2', 'd2'], ('d3', 'd4'), {'k1': 'v1', 'k2': 22})"
      ]
     },
     "execution_count": 117,
     "metadata": {},
     "output_type": "execute_result"
    }
   ],
   "source": [
    "t"
   ]
  },
  {
   "cell_type": "code",
   "execution_count": 121,
   "id": "85c60309-61e8-45be-a7ec-289de13bde8f",
   "metadata": {},
   "outputs": [
    {
     "name": "stdout",
     "output_type": "stream",
     "text": [
      "([], (1, 2, [111]), (11, 22))\n"
     ]
    },
    {
     "ename": "AttributeError",
     "evalue": "'tuple' object has no attribute 'append'",
     "output_type": "error",
     "traceback": [
      "\u001b[1;31m---------------------------------------------------------------------------\u001b[0m",
      "\u001b[1;31mAttributeError\u001b[0m                            Traceback (most recent call last)",
      "Cell \u001b[1;32mIn[121], line 6\u001b[0m\n\u001b[0;32m      4\u001b[0m t1[\u001b[38;5;241m1\u001b[39m][\u001b[38;5;241m2\u001b[39m]\u001b[38;5;241m.\u001b[39mappend(\u001b[38;5;241m111\u001b[39m)\n\u001b[0;32m      5\u001b[0m \u001b[38;5;28mprint\u001b[39m(t1)\n\u001b[1;32m----> 6\u001b[0m t1[\u001b[38;5;241m1\u001b[39m]\u001b[38;5;241m.\u001b[39mappend(\u001b[38;5;241m222\u001b[39m)\n",
      "\u001b[1;31mAttributeError\u001b[0m: 'tuple' object has no attribute 'append'"
     ]
    }
   ],
   "source": [
    "t1=([],(1,2,[]), (11,22))\n",
    "#    0  ------\n",
    "#          1\n",
    "t1[1][2].append(111)\n",
    "print(t1)\n",
    "#t1[1].append(222)    Attribute Error"
   ]
  },
  {
   "cell_type": "code",
   "execution_count": 126,
   "id": "8a6e8c47-7d08-46e9-bbba-55ac17da847a",
   "metadata": {},
   "outputs": [
    {
     "name": "stdout",
     "output_type": "stream",
     "text": [
      "(['d1', 'd2', 'd2', 'd2', 'd2'], ('d3', 'd4'), {'k1': 'v1', 'k2': 22, 'k10': 'v10'})\n",
      "{'k1': 'v1', 'k2': 22, 'k10': 'v10'} {'k1': 'v1', 'k2': 22, 'k10': 'v10'}\n",
      "(['d1', 'd2', 'd2', 'd2', 'd2'], ('d3', 'd4'), {'k1': 'v1', 'k2': 22, 'k10': 'v10'})\n",
      "(['d1', 'd2', 'd2', 'd2', 'd2'], ('d3', 'd4'), {'k1': 'v1', 'k2': 22, 'k10': 'v10', 'k15': 'v15'})\n"
     ]
    }
   ],
   "source": [
    "print(t)\n",
    "# dictname.setdefault(k,v)   (or)  dictname[k]=v\n",
    "print(t[-1],t[2])\n",
    "t[-1].setdefault(\"k10\",\"v10\")\n",
    "print(t)\n",
    "t[2][\"k15\"]=\"v15\"\n",
    "print(t)"
   ]
  },
  {
   "cell_type": "code",
   "execution_count": null,
   "id": "23f78744-2bb2-480a-98fe-42e2c4f7561b",
   "metadata": {},
   "outputs": [],
   "source": [
    "# dict of list tuple dict\n",
    "d={\"k1\":\"v1\", \"k2\":\"v2\"}\n",
    "\n",
    "d={\"k1\":[], \"k2\":(), \"k3\" : {}}# dict of list tuple dict\n",
    "d[\"k1\"]==> []\n",
    "d[\"k1\"][index]   dict of list\n",
    "d[\"k2\"][index]   dict of tuple\n",
    "d[\"k3\"][key]   dict of dict"
   ]
  },
  {
   "cell_type": "code",
   "execution_count": 131,
   "id": "975b814d-8a2f-40ad-857e-e09e76612ea7",
   "metadata": {},
   "outputs": [
    {
     "name": "stdout",
     "output_type": "stream",
     "text": [
      "<class 'dict'> 2\n",
      "dict_keys(['ename', 'edept'])\n",
      "[] ('sales', 'prod', 'hr')\n",
      "[] ('sales', 'prod', 'hr')\n"
     ]
    }
   ],
   "source": [
    "d={\"ename\":[], \"edept\":(\"sales\",\"prod\",\"hr\")}\n",
    "print(type(d),len(d))\n",
    "print(d.keys())\n",
    "print(d['ename'],d['edept'])  # key based \n",
    "print(d.get('ename'), d.get('edept')) # method based"
   ]
  },
  {
   "cell_type": "code",
   "execution_count": 134,
   "id": "f33be0e7-3b98-4cee-9d08-d6db6c5aead9",
   "metadata": {},
   "outputs": [
    {
     "name": "stdout",
     "output_type": "stream",
     "text": [
      "{'ename': ['Arun', 'Sam', 'Ajay', 'Kavya'], 'edept': ('sales', 'prod', 'hr')}\n"
     ]
    }
   ],
   "source": [
    "d={\"ename\":[], \"edept\":(\"sales\",\"prod\",\"hr\")}\n",
    "d['ename'].append(\"Arun\")  # listname.append(value)\n",
    "d['ename'].append(\"Sam\")\n",
    "d['ename'].append(\"Ajay\")\n",
    "d['ename'].append(\"Kavya\")\n",
    "print(d)"
   ]
  },
  {
   "cell_type": "code",
   "execution_count": 137,
   "id": "ba5acef7-932b-4e4f-8000-512d9d19ce11",
   "metadata": {},
   "outputs": [
    {
     "name": "stdout",
     "output_type": "stream",
     "text": [
      "Sam\n"
     ]
    },
    {
     "data": {
      "text/plain": [
       "'Kavya'"
      ]
     },
     "execution_count": 137,
     "metadata": {},
     "output_type": "execute_result"
    }
   ],
   "source": [
    "print(d['ename'][1])\n",
    "d['ename'][-1]"
   ]
  },
  {
   "cell_type": "code",
   "execution_count": 138,
   "id": "c9575348-d4d0-4e6c-b2d2-f271f9549548",
   "metadata": {},
   "outputs": [
    {
     "data": {
      "text/plain": [
       "1"
      ]
     },
     "execution_count": 138,
     "metadata": {},
     "output_type": "execute_result"
    }
   ],
   "source": [
    "d['edept'].index('prod')  # tuple operation"
   ]
  },
  {
   "cell_type": "code",
   "execution_count": 139,
   "id": "0c27445e-7176-401b-a99c-ff1da99654a7",
   "metadata": {},
   "outputs": [
    {
     "name": "stdout",
     "output_type": "stream",
     "text": [
      "{'k1': {'k1': 'v1', 'k2': 'v2'}, 'k2': {'key1': 'v1', 'key2': 200}, 'k3': {'kx': 100}} 3\n"
     ]
    }
   ],
   "source": [
    "# dict of dict\n",
    "d={\"k1\":{\"k1\":\"v1\",\"k2\":\"v2\"}, \"k2\":{\"key1\":\"v1\",\"key2\":200} , \"k3\":{\"kx\":100}}\n",
    "print(d,len(d))"
   ]
  },
  {
   "cell_type": "code",
   "execution_count": 140,
   "id": "a240947f-bf97-4b15-9a05-6d0fdd05c26a",
   "metadata": {},
   "outputs": [
    {
     "data": {
      "text/plain": [
       "{'k1': {'k1': 'v1', 'k2': 'v2'},\n",
       " 'k2': {'key1': 'v1', 'key2': 200},\n",
       " 'k3': {'kx': 100}}"
      ]
     },
     "execution_count": 140,
     "metadata": {},
     "output_type": "execute_result"
    }
   ],
   "source": [
    "d"
   ]
  },
  {
   "cell_type": "code",
   "execution_count": 141,
   "id": "7141fca9-c1cc-4796-bd14-945a85dd7cc2",
   "metadata": {},
   "outputs": [
    {
     "data": {
      "text/plain": [
       "{'key1': 'v1', 'key2': 200}"
      ]
     },
     "execution_count": 141,
     "metadata": {},
     "output_type": "execute_result"
    }
   ],
   "source": [
    "d[\"k2\"]"
   ]
  },
  {
   "cell_type": "code",
   "execution_count": 143,
   "id": "8b28fdac-e089-4cf4-8aee-3922b31c9c2f",
   "metadata": {},
   "outputs": [
    {
     "name": "stdout",
     "output_type": "stream",
     "text": [
      "{'k1': {'k1': 'v1', 'k2': 'v2'}, 'k2': {'key1': 'v1', 'key2': 500}, 'k3': {'kx': 100}}\n"
     ]
    }
   ],
   "source": [
    "d[\"k2\"][\"key2\"]=500   # keybased  \n",
    "print(d)"
   ]
  },
  {
   "cell_type": "code",
   "execution_count": 145,
   "id": "6e06d28d-afa0-40c5-8bd8-78bfaf82ce2b",
   "metadata": {},
   "outputs": [
    {
     "name": "stdout",
     "output_type": "stream",
     "text": [
      "{'k1': {'k1': 'v1', 'k2': 'v2'}, 'k2': {'key1': 'v1', 'key2': 500, 'key3': 1000}, 'k3': {'kx': 100}}\n"
     ]
    }
   ],
   "source": [
    "d[\"k2\"].setdefault(\"key3\",1000)   # add new element\n",
    "print(d)"
   ]
  },
  {
   "cell_type": "code",
   "execution_count": null,
   "id": "96529593-5bac-4973-90a3-38f5eb07d175",
   "metadata": {},
   "outputs": [],
   "source": [
    "# python__Activity__List__Tuple___FileHandling.pdf  -> last 2 questions\n",
    "# python_Activity 3.pdf \n",
    "\n",
    "##############  ACTIVITY TIME 2:15 PM TO 2:40PM    #######################"
   ]
  },
  {
   "cell_type": "code",
   "execution_count": null,
   "id": "1ec5e7bb-2a19-4349-b025-8b4c8e3a92e9",
   "metadata": {},
   "outputs": [],
   "source": [
    "Function\n",
    "--------\n",
    "\n",
    "-> definition - code block\n",
    "-> funtioncall - invoke the definition\n"
   ]
  },
  {
   "cell_type": "code",
   "execution_count": 148,
   "id": "f7ce3351-4b83-454c-9a24-f500dc1033ae",
   "metadata": {},
   "outputs": [
    {
     "name": "stdout",
     "output_type": "stream",
     "text": [
      "101,Arun,sales,pune,2000\n",
      "102,Vishnu,sales,hyderabad,3000\n",
      "103,Vijay,prod,Pune,2000\n",
      "104,Raghav,Hr,pune,3000\n",
      "105,sam,Hr,bglore,8000\n",
      "\n",
      "A0\n",
      "A1\n",
      "A2\n",
      "A3\n",
      "A4\n",
      "101,Arun,sales,pune,2000\n",
      "102,Vishnu,sales,hyderabad,3000\n",
      "103,Vijay,prod,Pune,2000\n",
      "104,Raghav,Hr,pune,3000\n",
      "105,sam,Hr,bglore,8000\n",
      "\n",
      "\n",
      "101,ARUN,SALES,PUNE,2000\n",
      "102,VISHNU,SALES,HYDERABAD,3000\n",
      "103,VIJAY,PROD,PUNE,2000\n",
      "104,RAGHAV,HR,PUNE,3000\n",
      "105,SAM,HR,BGLORE,8000\n",
      "\n",
      "101,Arun,sales,pune,2000\n",
      "102,Vishnu,sales,hyderabad,3000\n",
      "103,Vijay,prod,Pune,2000\n",
      "104,Raghav,Hr,pune,3000\n",
      "105,sam,Hr,bglore,8000\n",
      "\n",
      "k1 v1\n",
      "A0\n",
      "A1\n",
      "A2\n",
      "A3\n",
      "A4\n"
     ]
    }
   ],
   "source": [
    "with open(\"D://emp.csv\") as FH:\n",
    "    s=FH.read()\n",
    "    print(s)\n",
    "for var in range(5):\n",
    "    print('A'+str(var))\n",
    "\n",
    "print(s)\n",
    "print()\n",
    "print(s.upper())\n",
    "\n",
    "with open(\"D://emp.csv\") as FH:\n",
    "    s=FH.read()\n",
    "    print(s)\n",
    "\n",
    "d={\"k1\":\"v1\"}\n",
    "for var in d:\n",
    "    print(var,d[var])\n",
    "\n",
    "for var in range(5):\n",
    "    print('A'+str(var))    \n"
   ]
  },
  {
   "cell_type": "code",
   "execution_count": 148,
   "id": "b860a29c",
   "metadata": {},
   "outputs": [
    {
     "name": "stdout",
     "output_type": "stream",
     "text": [
      "101,Arun,sales,pune,2000\n",
      "102,Vishnu,sales,hyderabad,3000\n",
      "103,Vijay,prod,Pune,2000\n",
      "104,Raghav,Hr,pune,3000\n",
      "105,sam,Hr,bglore,8000\n",
      "\n",
      "A0\n",
      "A1\n",
      "A2\n",
      "A3\n",
      "A4\n",
      "101,Arun,sales,pune,2000\n",
      "102,Vishnu,sales,hyderabad,3000\n",
      "103,Vijay,prod,Pune,2000\n",
      "104,Raghav,Hr,pune,3000\n",
      "105,sam,Hr,bglore,8000\n",
      "\n",
      "\n",
      "101,ARUN,SALES,PUNE,2000\n",
      "102,VISHNU,SALES,HYDERABAD,3000\n",
      "103,VIJAY,PROD,PUNE,2000\n",
      "104,RAGHAV,HR,PUNE,3000\n",
      "105,SAM,HR,BGLORE,8000\n",
      "\n",
      "101,Arun,sales,pune,2000\n",
      "102,Vishnu,sales,hyderabad,3000\n",
      "103,Vijay,prod,Pune,2000\n",
      "104,Raghav,Hr,pune,3000\n",
      "105,sam,Hr,bglore,8000\n",
      "\n",
      "k1 v1\n",
      "A0\n",
      "A1\n",
      "A2\n",
      "A3\n",
      "A4\n"
     ]
    }
   ],
   "source": [
    "with open(\"D://emp.csv\") as FH:\n",
    "    s=FH.read()\n",
    "    print(s)\n",
    "for var in range(5):\n",
    "    print('A'+str(var))\n",
    "\n",
    "print(s)\n",
    "print()\n",
    "print(s.upper())\n",
    "\n",
    "with open(\"D://emp.csv\") as FH:\n",
    "    s=FH.read()\n",
    "    print(s)\n",
    "\n",
    "d={\"k1\":\"v1\"}\n",
    "for var in d:\n",
    "    print(var,d[var])\n",
    "\n",
    "for var in range(5):\n",
    "    print('A'+str(var))    \n"
   ]
  },
  {
   "cell_type": "code",
   "execution_count": 155,
   "id": "ceee2ea3",
   "metadata": {},
   "outputs": [
    {
     "name": "stdout",
     "output_type": "stream",
     "text": [
      "101,Arun,sales,pune,2000\n",
      "102,Vishnu,sales,hyderabad,3000\n",
      "103,Vijay,prod,Pune,2000\n",
      "104,Raghav,Hr,pune,3000\n",
      "105,sam,Hr,bglore,8000\n",
      "\n",
      "A0\n",
      "101,Arun,sales,pune,2000\n",
      "102,Vishnu,sales,hyderabad,3000\n",
      "103,Vijay,prod,Pune,2000\n",
      "104,Raghav,Hr,pune,3000\n",
      "105,sam,Hr,bglore,8000\n",
      "\n",
      "A1\n",
      "101,Arun,sales,pune,2000\n",
      "102,Vishnu,sales,hyderabad,3000\n",
      "103,Vijay,prod,Pune,2000\n",
      "104,Raghav,Hr,pune,3000\n",
      "105,sam,Hr,bglore,8000\n",
      "\n",
      "A2\n",
      "101,Arun,sales,pune,2000\n",
      "102,Vishnu,sales,hyderabad,3000\n",
      "103,Vijay,prod,Pune,2000\n",
      "104,Raghav,Hr,pune,3000\n",
      "105,sam,Hr,bglore,8000\n",
      "\n",
      "A3\n",
      "101,Arun,sales,pune,2000\n",
      "102,Vishnu,sales,hyderabad,3000\n",
      "103,Vijay,prod,Pune,2000\n",
      "104,Raghav,Hr,pune,3000\n",
      "105,sam,Hr,bglore,8000\n",
      "\n",
      "A4\n",
      "101,Arun,sales,pune,2000\n",
      "102,Vishnu,sales,hyderabad,3000\n",
      "103,Vijay,prod,Pune,2000\n",
      "104,Raghav,Hr,pune,3000\n",
      "105,sam,Hr,bglore,8000\n",
      "\n",
      "101,Arun,sales,pune,2000\n",
      "102,Vishnu,sales,hyderabad,3000\n",
      "103,Vijay,prod,Pune,2000\n",
      "104,Raghav,Hr,pune,3000\n",
      "105,sam,Hr,bglore,8000\n",
      "\n",
      "k1 v1\n",
      "A0\n",
      "101,Arun,sales,pune,2000\n",
      "102,Vishnu,sales,hyderabad,3000\n",
      "103,Vijay,prod,Pune,2000\n",
      "104,Raghav,Hr,pune,3000\n",
      "105,sam,Hr,bglore,8000\n",
      "\n",
      "A1\n",
      "101,Arun,sales,pune,2000\n",
      "102,Vishnu,sales,hyderabad,3000\n",
      "103,Vijay,prod,Pune,2000\n",
      "104,Raghav,Hr,pune,3000\n",
      "105,sam,Hr,bglore,8000\n",
      "\n",
      "A2\n",
      "101,Arun,sales,pune,2000\n",
      "102,Vishnu,sales,hyderabad,3000\n",
      "103,Vijay,prod,Pune,2000\n",
      "104,Raghav,Hr,pune,3000\n",
      "105,sam,Hr,bglore,8000\n",
      "\n",
      "A3\n",
      "101,Arun,sales,pune,2000\n",
      "102,Vishnu,sales,hyderabad,3000\n",
      "103,Vijay,prod,Pune,2000\n",
      "104,Raghav,Hr,pune,3000\n",
      "105,sam,Hr,bglore,8000\n",
      "\n",
      "A4\n",
      "101,Arun,sales,pune,2000\n",
      "102,Vishnu,sales,hyderabad,3000\n",
      "103,Vijay,prod,Pune,2000\n",
      "104,Raghav,Hr,pune,3000\n",
      "105,sam,Hr,bglore,8000\n",
      "\n"
     ]
    }
   ],
   "source": [
    "def f1():\n",
    "    with open(\"D://emp.csv\") as FH:\n",
    "        s=FH.read()\n",
    "        print(s)\n",
    "\n",
    "def f2():\n",
    "    for var in range(5):\n",
    "        print('A'+str(var))\n",
    "        print(s)\n",
    "def f3():\n",
    "    d={\"k1\":\"v1\"}\n",
    "    for var in d:\n",
    "        print(var,d[var])\n",
    "\n",
    "f1()\n",
    "f2()\n",
    "f1()\n",
    "f3()\n",
    "f2()\n",
    "   \n"
   ]
  },
  {
   "cell_type": "code",
   "execution_count": null,
   "id": "77955964-3ea9-40cf-a26d-edf694e98557",
   "metadata": {},
   "outputs": [],
   "source": [
    "Syntax:-  function definition\n",
    "def functionName():\n",
    "    code block\n",
    " functionName()   - function call   "
   ]
  },
  {
   "cell_type": "code",
   "execution_count": null,
   "id": "14e4efcb-883a-44b6-9222-c1b370cbf35f",
   "metadata": {},
   "outputs": [],
   "source": [
    "with open(\"emp.csv\") as FH:\n",
    "    print(FH.read())\n",
    "with open(\"emp1.csv\") as FH:\n",
    "    print(FH.read())\n",
    "with open(\"emp2.csv\") as FH:\n",
    "    print(FH.read())\n",
    "    "
   ]
  },
  {
   "cell_type": "code",
   "execution_count": 158,
   "id": "f20a52b3-8748-4587-9aad-80dcaa9520e9",
   "metadata": {},
   "outputs": [
    {
     "name": "stdout",
     "output_type": "stream",
     "text": [
      "101,Arun,sales,pune,2000\n",
      "102,Vishnu,sales,hyderabad,3000\n",
      "103,Vijay,prod,Pune,2000\n",
      "104,Raghav,Hr,pune,3000\n",
      "105,sam,Hr,bglore,8000\n",
      "\n"
     ]
    }
   ],
   "source": [
    "#function without arg\n",
    "def f1():\n",
    "    with open(\"D:\\\\emp.csv\") as FH:\n",
    "        print(FH.read())\n",
    "f1()  # function call"
   ]
  },
  {
   "cell_type": "code",
   "execution_count": 159,
   "id": "77743c96-d667-48f7-a177-5f75dcc31670",
   "metadata": {},
   "outputs": [
    {
     "data": {
      "text/plain": [
       "<function __main__.f1()>"
      ]
     },
     "execution_count": 159,
     "metadata": {},
     "output_type": "execute_result"
    }
   ],
   "source": [
    "f1"
   ]
  },
  {
   "cell_type": "code",
   "execution_count": 161,
   "id": "2de2f6be-0a12-45f9-b28d-cf6552dedf03",
   "metadata": {},
   "outputs": [
    {
     "name": "stdout",
     "output_type": "stream",
     "text": [
      "<class 'function'>\n"
     ]
    }
   ],
   "source": [
    "print(type(f1))"
   ]
  },
  {
   "cell_type": "code",
   "execution_count": 163,
   "id": "9771ac0e-81ff-408e-8a06-deba7f0e06e4",
   "metadata": {},
   "outputs": [
    {
     "name": "stdout",
     "output_type": "stream",
     "text": [
      "101,Arun,sales,pune,2000\n",
      "102,Vishnu,sales,hyderabad,3000\n",
      "103,Vijay,prod,Pune,2000\n",
      "104,Raghav,Hr,pune,3000\n",
      "105,sam,Hr,bglore,8000\n",
      "\n",
      "DATA : 0\n",
      "DATA : 1\n",
      "DATA : 2\n",
      "DATA : 3\n",
      "DATA : 4\n",
      "\n"
     ]
    }
   ],
   "source": [
    "def f1(a):\n",
    "    with open(a) as FH:\n",
    "        print(FH.read())\n",
    "f1(\"D://emp.csv\")\n",
    "f1(\"C:\\\\Users\\\\Lenovo\\\\python18Aug25\\\\day2\\\\data.log\")\n"
   ]
  },
  {
   "cell_type": "code",
   "execution_count": null,
   "id": "d4173cb9-3e1d-481b-b591-06b0a148b2be",
   "metadata": {},
   "outputs": [],
   "source": [
    "L=[]\n",
    "L.append(10)\n",
    "L.append(1.2)\n",
    "L.append(\"data\")\n",
    "L.append([1,2,3])\n",
    "\n",
    "def append(a):\n",
    "    ...\n",
    "\n",
    "append(10) // ok\n",
    "append(10,20) //error\n",
    "append()// error"
   ]
  },
  {
   "cell_type": "code",
   "execution_count": 164,
   "id": "c32d62af-3647-4d0b-a3fa-0854f0032757",
   "metadata": {},
   "outputs": [
    {
     "ename": "TypeError",
     "evalue": "f1() missing 1 required positional argument: 'a'",
     "output_type": "error",
     "traceback": [
      "\u001b[1;31m---------------------------------------------------------------------------\u001b[0m",
      "\u001b[1;31mTypeError\u001b[0m                                 Traceback (most recent call last)",
      "Cell \u001b[1;32mIn[164], line 5\u001b[0m\n\u001b[0;32m      2\u001b[0m     \u001b[38;5;28;01mwith\u001b[39;00m \u001b[38;5;28mopen\u001b[39m(a) \u001b[38;5;28;01mas\u001b[39;00m FH:\n\u001b[0;32m      3\u001b[0m         \u001b[38;5;28mprint\u001b[39m(FH\u001b[38;5;241m.\u001b[39mread())\n\u001b[1;32m----> 5\u001b[0m f1()\n",
      "\u001b[1;31mTypeError\u001b[0m: f1() missing 1 required positional argument: 'a'"
     ]
    }
   ],
   "source": [
    "def f1(a):\n",
    "    with open(a) as FH:\n",
    "        print(FH.read())\n",
    "\n",
    "f1()"
   ]
  },
  {
   "cell_type": "code",
   "execution_count": 165,
   "id": "124cc60d-1e9b-4bd4-a8c8-7e330492785b",
   "metadata": {},
   "outputs": [
    {
     "ename": "TypeError",
     "evalue": "list.append() takes exactly one argument (0 given)",
     "output_type": "error",
     "traceback": [
      "\u001b[1;31m---------------------------------------------------------------------------\u001b[0m",
      "\u001b[1;31mTypeError\u001b[0m                                 Traceback (most recent call last)",
      "Cell \u001b[1;32mIn[165], line 2\u001b[0m\n\u001b[0;32m      1\u001b[0m L\u001b[38;5;241m=\u001b[39m[]\n\u001b[1;32m----> 2\u001b[0m L\u001b[38;5;241m.\u001b[39mappend()\n",
      "\u001b[1;31mTypeError\u001b[0m: list.append() takes exactly one argument (0 given)"
     ]
    }
   ],
   "source": [
    "L=[]\n",
    "L.append()"
   ]
  },
  {
   "cell_type": "code",
   "execution_count": 166,
   "id": "4d82898e-c834-4e00-86de-8037904f872a",
   "metadata": {},
   "outputs": [
    {
     "name": "stdout",
     "output_type": "stream",
     "text": [
      "10 <class 'int'>\n",
      "1.333 <class 'float'>\n",
      "aaa <class 'str'>\n",
      "[] <class 'list'>\n",
      "() <class 'tuple'>\n"
     ]
    }
   ],
   "source": [
    "def f1(a):\n",
    "    print(a,type(a))\n",
    "\n",
    "f1(10)\n",
    "f1(1.333)\n",
    "f1(\"aaa\")\n",
    "f1([])\n",
    "f1(())"
   ]
  },
  {
   "cell_type": "code",
   "execution_count": 171,
   "id": "a9677c10-b49f-4686-87a5-650a9298ad7d",
   "metadata": {},
   "outputs": [
    {
     "name": "stdout",
     "output_type": "stream",
     "text": [
      "1 2\n",
      "abc [1, 2, 3]\n",
      "[] {}\n",
      "() []\n"
     ]
    },
    {
     "ename": "TypeError",
     "evalue": "fx() takes 2 positional arguments but 3 were given",
     "output_type": "error",
     "traceback": [
      "\u001b[1;31m---------------------------------------------------------------------------\u001b[0m",
      "\u001b[1;31mTypeError\u001b[0m                                 Traceback (most recent call last)",
      "Cell \u001b[1;32mIn[171], line 11\u001b[0m\n\u001b[0;32m      8\u001b[0m fx((),[])\n\u001b[0;32m      9\u001b[0m \u001b[38;5;66;03m# fx()   - TypeError: fx() missing 2 required positional arguments: 'a1' and 'a2'\u001b[39;00m\n\u001b[0;32m     10\u001b[0m \u001b[38;5;66;03m# fx(10)   - TypeError: fx() missing 1 required positional argument: 'a2'\u001b[39;00m\n\u001b[1;32m---> 11\u001b[0m fx(\u001b[38;5;241m10\u001b[39m,\u001b[38;5;241m20\u001b[39m,\u001b[38;5;241m30\u001b[39m)\n",
      "\u001b[1;31mTypeError\u001b[0m: fx() takes 2 positional arguments but 3 were given"
     ]
    }
   ],
   "source": [
    "# Required arguments\n",
    "def fx(a1,a2):\n",
    "    print(a1,a2)\n",
    "\n",
    "fx(1,2)\n",
    "fx('abc',[1,2,3])\n",
    "fx([],{})\n",
    "fx((),[])\n",
    "# fx()   - TypeError: fx() missing 2 required positional arguments: 'a1' and 'a2'\n",
    "# fx(10)   - TypeError: fx() missing 1 required positional argument: 'a2'\n",
    "#fx(10,20,30) - TypeError: fx() takes 2 positional arguments but 3 were given"
   ]
  },
  {
   "cell_type": "code",
   "execution_count": 172,
   "id": "51fad777-74fd-40ab-a8b7-42a0bb7ef973",
   "metadata": {},
   "outputs": [
    {
     "data": {
      "text/plain": [
       "[10, 30, 40]"
      ]
     },
     "execution_count": 172,
     "metadata": {},
     "output_type": "execute_result"
    }
   ],
   "source": [
    "L=[10,20,30,40,50]\n",
    "L.pop()  # removes the last element\n",
    "L.pop(1) # removes the elmnt in index 1\n",
    "L\n",
    "\n",
    "'''\n",
    "def pop(a=-1):\n",
    "    ...\n",
    "    \n",
    "'''"
   ]
  },
  {
   "cell_type": "code",
   "execution_count": 173,
   "id": "8008758d-479d-4ba1-81b1-57ed1a4dfe22",
   "metadata": {},
   "outputs": [
    {
     "name": "stdout",
     "output_type": "stream",
     "text": [
      "data <class 'str'>\n",
      "10 <class 'int'>\n"
     ]
    }
   ],
   "source": [
    "def f(a=10):   # default argument\n",
    "    print(a,type(a))\n",
    "f(\"data\")  #ok\n",
    "f()    # ok"
   ]
  },
  {
   "cell_type": "code",
   "execution_count": 178,
   "id": "2d6dce68-7ab1-48cd-b030-ec7158082273",
   "metadata": {},
   "outputs": [
    {
     "name": "stdout",
     "output_type": "stream",
     "text": [
      "100 data\n",
      "20 data\n",
      "1 2\n"
     ]
    }
   ],
   "source": [
    "def fx(a1=100,a2=\"data\"):  # default arg\n",
    "    print(a1,a2)\n",
    "\n",
    "fx()\n",
    "fx(20) # 20 initialized to a1 Not to a2\n",
    "fx(1,2)\n",
    "#fx(1,2,3)  # TypeError: fx() takes from 0 to 2 positional arguments but 3 were given"
   ]
  },
  {
   "cell_type": "code",
   "execution_count": 180,
   "id": "9f5b2a42-99e4-45c8-b129-b2ac58545735",
   "metadata": {},
   "outputs": [
    {
     "name": "stdout",
     "output_type": "stream",
     "text": [
      "hello\n"
     ]
    }
   ],
   "source": [
    "def f1(a1,a2,a3,a4=0,a5=None,a6=''):   # Required arg, Default arg  - Order of usage\n",
    "    print('hello')\n",
    "\n",
    "# f1()  TypeError: f1() missing 3 required positional arguments: 'a1', 'a2', and 'a3'\n",
    "# f1(10) TypeError\n",
    "# f1(1,2) TypeError\n",
    "f1(1,2,3)"
   ]
  },
  {
   "cell_type": "code",
   "execution_count": 181,
   "id": "2e0df8a0-cc48-4fc6-b52d-403a738d0933",
   "metadata": {},
   "outputs": [
    {
     "ename": "SyntaxError",
     "evalue": "parameter without a default follows parameter with a default (2829931798.py, line 1)",
     "output_type": "error",
     "traceback": [
      "\u001b[1;36m  Cell \u001b[1;32mIn[181], line 1\u001b[1;36m\u001b[0m\n\u001b[1;33m    def fx(a,a2,a3=0,a4) :\u001b[0m\n\u001b[1;37m                     ^\u001b[0m\n\u001b[1;31mSyntaxError\u001b[0m\u001b[1;31m:\u001b[0m parameter without a default follows parameter with a default\n"
     ]
    }
   ],
   "source": [
    "def fx(a,a2,a3=0,a4) :\n",
    "    print('hello')\n",
    "    "
   ]
  },
  {
   "cell_type": "code",
   "execution_count": 184,
   "id": "6f00e1ee-29a2-4028-92aa-b451f93dde87",
   "metadata": {},
   "outputs": [
    {
     "name": "stdout",
     "output_type": "stream",
     "text": [
      "{'k1': 'v1', 'k3': 'v3', 'k4': None}\n"
     ]
    },
    {
     "ename": "TypeError",
     "evalue": "setdefault expected at least 1 argument, got 0",
     "output_type": "error",
     "traceback": [
      "\u001b[1;31m---------------------------------------------------------------------------\u001b[0m",
      "\u001b[1;31mTypeError\u001b[0m                                 Traceback (most recent call last)",
      "Cell \u001b[1;32mIn[184], line 10\u001b[0m\n\u001b[0;32m      6\u001b[0m \u001b[38;5;28mprint\u001b[39m(d)\n\u001b[0;32m      7\u001b[0m \u001b[38;5;124;03m'''\u001b[39;00m\n\u001b[0;32m      8\u001b[0m \u001b[38;5;124;03mdef setdefault(a,v=None)\u001b[39;00m\n\u001b[0;32m      9\u001b[0m \u001b[38;5;124;03m'''\u001b[39;00m\n\u001b[1;32m---> 10\u001b[0m d\u001b[38;5;241m.\u001b[39msetdefault()\n",
      "\u001b[1;31mTypeError\u001b[0m: setdefault expected at least 1 argument, got 0"
     ]
    }
   ],
   "source": [
    "d={}\n",
    "d['k1']='v1'\n",
    "\n",
    "d.setdefault('k3','v3')\n",
    "d.setdefault('k4')\n",
    "print(d)\n",
    "'''\n",
    "def setdefault(a,v=None)\n",
    "'''\n",
    "# d.setdefault()  # TypeError"
   ]
  },
  {
   "cell_type": "code",
   "execution_count": 187,
   "id": "447483f7-6ee8-48ce-b775-6eaa0960fc07",
   "metadata": {},
   "outputs": [
    {
     "name": "stdout",
     "output_type": "stream",
     "text": [
      "()\n",
      "(1, 2, 3)\n",
      "(1, 2, 3, 4, 5, 6, 7, 8)\n"
     ]
    }
   ],
   "source": [
    "# variable length argument\n",
    "def f(*a):\n",
    "    print(a)   # variable length arg--> tuple\n",
    "\n",
    "f()\n",
    "f(1,2,3)\n",
    "f(1,2,3,4,5,6,7,8)"
   ]
  },
  {
   "cell_type": "code",
   "execution_count": 189,
   "id": "1d0d2271-4dbf-414a-b52f-072f9209f8ce",
   "metadata": {},
   "outputs": [
    {
     "ename": "TypeError",
     "evalue": "fx() missing 1 required keyword-only argument: 'a2'",
     "output_type": "error",
     "traceback": [
      "\u001b[1;31m---------------------------------------------------------------------------\u001b[0m",
      "\u001b[1;31mTypeError\u001b[0m                                 Traceback (most recent call last)",
      "Cell \u001b[1;32mIn[189], line 5\u001b[0m\n\u001b[0;32m      2\u001b[0m     \u001b[38;5;28mprint\u001b[39m(a1)\n\u001b[0;32m      3\u001b[0m     \u001b[38;5;28mprint\u001b[39m(a2)\n\u001b[1;32m----> 5\u001b[0m fx(\u001b[38;5;241m1\u001b[39m,\u001b[38;5;241m2\u001b[39m,\u001b[38;5;241m3\u001b[39m,\u001b[38;5;241m4\u001b[39m)\n",
      "\u001b[1;31mTypeError\u001b[0m: fx() missing 1 required keyword-only argument: 'a2'"
     ]
    }
   ],
   "source": [
    "def fx(*a1,a2):\n",
    "    print(a1)\n",
    "    print(a2)\n",
    "\n",
    "fx(1,2,3,4)"
   ]
  },
  {
   "cell_type": "code",
   "execution_count": 190,
   "id": "b838c63d-d703-4453-94ef-e30228ecbe59",
   "metadata": {},
   "outputs": [
    {
     "name": "stdout",
     "output_type": "stream",
     "text": [
      "(2, 3, 4)\n",
      "1\n"
     ]
    }
   ],
   "source": [
    "def fx(a2,*a1):\n",
    "    print(a1)\n",
    "    print(a2)\n",
    "\n",
    "fx(1,2,3,4)"
   ]
  },
  {
   "cell_type": "code",
   "execution_count": null,
   "id": "59ae3f4f-76c3-4afe-964e-5982f28edd45",
   "metadata": {},
   "outputs": [],
   "source": [
    "# Required arg, default arg, variable arg - order of exe"
   ]
  },
  {
   "cell_type": "code",
   "execution_count": 191,
   "id": "eb97d0a3-547c-4a37-b570-c6fa38239e93",
   "metadata": {},
   "outputs": [
    {
     "data": {
      "text/plain": [
       "['bash', 'csh', 'perl', 'sh', 'tcsh', 'zsh']"
      ]
     },
     "execution_count": 191,
     "metadata": {},
     "output_type": "execute_result"
    }
   ],
   "source": [
    "L=['tcsh','sh','csh','bash','zsh','perl']\n",
    "L.sort()\n",
    "L"
   ]
  },
  {
   "cell_type": "code",
   "execution_count": 193,
   "id": "3f19fa79-c20e-4551-a693-da5b24714432",
   "metadata": {},
   "outputs": [
    {
     "data": {
      "text/plain": [
       "['zsh', 'tcsh', 'sh', 'perl', 'csh', 'bash']"
      ]
     },
     "execution_count": 193,
     "metadata": {},
     "output_type": "execute_result"
    }
   ],
   "source": [
    "L.sort(reverse=True)  # keyword argument\n",
    "L"
   ]
  },
  {
   "cell_type": "code",
   "execution_count": null,
   "id": "cd6f1070-46a5-4c91-85dd-0df171d83951",
   "metadata": {},
   "outputs": [],
   "source": [
    "funcall(var=value)  - keyword arg\n",
    "thread(target=<threadname>, arg=('','')) - keyword arg\n",
    "fx(var=100,name=\"root\")"
   ]
  },
  {
   "cell_type": "code",
   "execution_count": 195,
   "id": "d45db17b-d64b-4159-bdc4-fecdcc2d3a65",
   "metadata": {},
   "outputs": [
    {
     "name": "stdout",
     "output_type": "stream",
     "text": [
      "<class 'dict'>\n",
      "{'var': 100, 'name': 'hari', 'ip': '10.20.30.40'}\n",
      "3\n"
     ]
    }
   ],
   "source": [
    "def fx(**a):\n",
    "    print(type(a))   # dict --> {key:value}\n",
    "    print(a)\n",
    "    print(len(a))\n",
    "\n",
    "fx(var=100,name=\"hari\",ip=\"10.20.30.40\")"
   ]
  },
  {
   "cell_type": "code",
   "execution_count": null,
   "id": "52dc293d-ca87-4aa4-83e1-2ccd892749fe",
   "metadata": {},
   "outputs": [],
   "source": [
    "d={'var':100,\"name\":\"hari\"}\n",
    "    |          |\n",
    "   str        str"
   ]
  },
  {
   "cell_type": "code",
   "execution_count": 196,
   "id": "36d948b7-eb40-4c33-9e49-0a6b1a09e156",
   "metadata": {},
   "outputs": [
    {
     "name": "stdout",
     "output_type": "stream",
     "text": [
      "() {}\n",
      "(1, 2, 3, 4) {}\n",
      "(1, 2, 3, 4) {'fname': 'p1.java', 'port': 8080}\n"
     ]
    }
   ],
   "source": [
    "def fx(*a3,**a4):\n",
    "    print(a3,a4)\n",
    "\n",
    "fx()   # () {}\n",
    "fx(1,2,3,4)  # (1,2,3,4) {}\n",
    "fx(1,2,3,4,fname=\"p1.java\",port=8080)"
   ]
  },
  {
   "cell_type": "code",
   "execution_count": 199,
   "id": "cb3aa186-3308-41ee-9dd4-757353fa1c53",
   "metadata": {},
   "outputs": [
    {
     "name": "stdout",
     "output_type": "stream",
     "text": [
      "110\n",
      "None\n"
     ]
    }
   ],
   "source": [
    "\n",
    " def fx():\n",
    "    var=10\n",
    "    r=var+100\n",
    "\n",
    "fx()  # return type is None\n",
    "\n",
    "\n",
    " def fx():\n",
    "    var=10\n",
    "    r=var+100\n",
    "    rv=print(r) # display the 110\n",
    "    print(rv)\n",
    "\n",
    "fx()"
   ]
  },
  {
   "cell_type": "code",
   "execution_count": 200,
   "id": "0cbff194-ec6b-4eb1-aff3-84a97a1e17c4",
   "metadata": {},
   "outputs": [
    {
     "data": {
      "text/plain": [
       "1"
      ]
     },
     "execution_count": 200,
     "metadata": {},
     "output_type": "execute_result"
    }
   ],
   "source": [
    "def fx():\n",
    "    return 1\n",
    "fx()"
   ]
  },
  {
   "cell_type": "code",
   "execution_count": 201,
   "id": "e0d8e650-84ce-41e8-8cd1-62a7712ff2f7",
   "metadata": {},
   "outputs": [
    {
     "data": {
      "text/plain": [
       "('STDOUT', 'STDIN')"
      ]
     },
     "execution_count": 201,
     "metadata": {},
     "output_type": "execute_result"
    }
   ],
   "source": [
    "def fx():\n",
    "    return \"STDOUT\",\"STDIN\"\n",
    "fx()"
   ]
  },
  {
   "cell_type": "code",
   "execution_count": null,
   "id": "79414404-a9bb-48b2-a512-10a2ea8090c8",
   "metadata": {},
   "outputs": [],
   "source": [
    "in oop- method\n",
    "def fx():\n",
    "    print(\"This is fx function\")\n",
    "    return 100\n",
    "\n",
    "fx()  # function call\n",
    "\n",
    "\n",
    "class cname:\n",
    "        def fx(a1,a2=0,*a3,**a4):\n",
    "            print(\"This is fx function\")\n",
    "            return 100\n",
    "obj=cname()\n",
    "obj.fx() # method call "
   ]
  },
  {
   "cell_type": "code",
   "execution_count": null,
   "id": "7d42124d-767d-438f-acdf-e03fd340e39c",
   "metadata": {},
   "outputs": [],
   "source": [
    "file: property.txt\n",
    "------------------\n",
    "interface=eth0\n",
    "onboot=None\n",
    "bootproto=dhcp\n",
    "DNS1=123.222.435.222\n",
    "DOMAIN=example.com\n",
    "---------------------\n",
    "\n",
    "\n",
    "Write a python program\n",
    "step 1: create an empty dict ( ex: d={})\n",
    "step 2: read property.txt - line by line # fh.readlines()\n",
    "step 3: split based (=) delimeter each line \n",
    "step 4: add data to dict (ex: d['interface']=\"eth0\")\n",
    "step 5: display key/value details\n",
    "\n",
    "\n",
    "step 6 : modify  -> interface => eth1\n",
    "         modify  -> onboot  ==> yes\n",
    "         modify  -> bootprot ==> static\n",
    "         Add     -> IP=10.20.30.40\n",
    "\n",
    "step 7: display updated key/value\n",
    "step 8: create a new propert file (p1.txt)- with updated content"
   ]
  },
  {
   "cell_type": "code",
   "execution_count": 206,
   "id": "ab5caa5b-2d06-4a81-8290-de366b4e3d1d",
   "metadata": {},
   "outputs": [
    {
     "name": "stdout",
     "output_type": "stream",
     "text": [
      "Key/Value Details:-\n",
      "=========================\n",
      "interface\teth0\n",
      "onboot\tNone\n",
      "bootproto\tdhcp\n",
      "DNS1\t123.222.435.222\n",
      "DOMAIN\texample.com\n",
      "\n",
      "Updated Key/ Value Pair Details :-\n",
      "=========================\n",
      "interface\teth1\n",
      "onboot\tyes\n",
      "bootproto\tstatic\n",
      "DNS1\t123.222.435.222\n",
      "DOMAIN\texample.com\n",
      "IP\t10.20.30.40\n"
     ]
    }
   ],
   "source": [
    "d={}\n",
    "with open(\"D:\\\\property.txt\") as FH:\n",
    "    for var in FH.readlines():\n",
    "            var=var.strip()   # remove \\n\n",
    "            L=var.split(\"=\") # [key,value]\n",
    "            key=L[0]\n",
    "            value=L[1]\n",
    "            d[key]=value   # adding data to existing dict\n",
    "\n",
    "print(\"Key/Value Details:-\")\n",
    "print(\"=\"* 25)\n",
    "for var in d:\n",
    "    print(\"{}\\t{}\".format(var,d[var]))\n",
    "\n",
    "d['interface'] = 'eth1'\n",
    "d['onboot'] = 'yes'\n",
    "d['bootproto'] = 'static'\n",
    "d['IP']= '10.20.30.40'\n",
    "print()\n",
    "\n",
    "print(\"Updated Key/ Value Pair Details :-\")\n",
    "print(\"=\"*25)\n",
    "for var in d:\n",
    "    print(\"{}\\t{}\".format(var,d[var]))\n",
    "\n",
    "with open(\"D:\\\\p1.txt\",\"w\") as WH:\n",
    "    for var in d:\n",
    "        WH.write(\"{}={}\\n\".format(var,d[var]))\n",
    "            "
   ]
  },
  {
   "cell_type": "code",
   "execution_count": 208,
   "id": "f342cf5a",
   "metadata": {},
   "outputs": [
    {
     "name": "stdout",
     "output_type": "stream",
     "text": [
      "Key/Value Details:-\n",
      "=========================\n",
      "interface\teth0\n",
      "onboot\tNone\n",
      "bootproto\tdhcp\n",
      "DNS1\t123.222.435.222\n",
      "DOMAIN\texample.com\n",
      "Key/Value Details:-\n",
      "=========================\n",
      "interface\teth1\n",
      "onboot\tyes\n",
      "bootproto\tstatic\n",
      "DNS1\t123.222.435.222\n",
      "DOMAIN\texample.com\n",
      "IP\t10.20.30.40\n"
     ]
    }
   ],
   "source": [
    "def f1():\n",
    "    d={}   # empty dict\n",
    "    return d\n",
    "    \n",
    "def f2(d):\n",
    "    with open(\"D:\\\\property.txt\") as FH:\n",
    "        for var in FH.readlines():\n",
    "            var=var.strip()   # remove \\n\n",
    "            L=var.split(\"=\") # [key,value]\n",
    "            key=L[0]\n",
    "            value=L[1]\n",
    "            d[key]=value   # adding data to existing dict\n",
    "        return d\n",
    "        \n",
    "def f3(d):\n",
    "    print(\"Key/Value Details:-\")\n",
    "    print(\"=\"* 25)\n",
    "    for var in d:\n",
    "        print(\"{}\\t{}\".format(var,d[var]))\n",
    "\n",
    "def f4(d):\n",
    "    d['interface'] = 'eth1'\n",
    "    d['onboot'] = 'yes'\n",
    "    d['bootproto'] = 'static'\n",
    "    d['IP']= '10.20.30.40'\n",
    "    return d\n",
    "\n",
    "def f5(d):\n",
    "    with open(\"D:\\\\p2.txt\",\"w\") as WH:\n",
    "        for var in d:\n",
    "            WH.write(\"{}={}\\n\".format(var,d[var]))\n",
    "\n",
    "rv1=f1()  # empty dict\n",
    "rv2=f2(rv1)  # dict with content\n",
    "f3(rv2)     # display old dict\n",
    "rv3=f4(rv2)  # dict after modification\n",
    "f3(rv3)     # display updated dict\n",
    "f5(rv3)    # write on p2.txt"
   ]
  },
  {
   "cell_type": "code",
   "execution_count": 209,
   "id": "b48766f1-24e6-41a9-af27-b047e9806221",
   "metadata": {},
   "outputs": [
    {
     "name": "stdout",
     "output_type": "stream",
     "text": [
      "interface=eth1\n",
      "onboot=yes\n",
      "bootproto=static\n",
      "DNS1=123.222.435.222\n",
      "DOMAIN=example.com\n",
      "IP=10.20.30.40\n",
      "\n"
     ]
    }
   ],
   "source": [
    "with open(\"D:\\\\p2.txt\") as FH:\n",
    "    print(FH.read())"
   ]
  },
  {
   "cell_type": "code",
   "execution_count": null,
   "id": "b8c71f6f-f399-4b43-8de7-c292aedaf867",
   "metadata": {},
   "outputs": [],
   "source": [
    "f1() --> create empty dict -> return dict\n",
    "f2() --> file handling- read of property file and adding data to dict -> dict--->dict\n",
    "f3() --> display dict code --->  input dict\n",
    "f4() --> modify dict ---> input dict --> return updated dict\n",
    "f3()  \n",
    "f4()--> write to p1.txt --> input dict (from f4()) "
   ]
  },
  {
   "cell_type": "code",
   "execution_count": 213,
   "id": "7ce432df-657d-401a-8fd8-db9342045f77",
   "metadata": {},
   "outputs": [
    {
     "name": "stdout",
     "output_type": "stream",
     "text": [
      "100\n"
     ]
    }
   ],
   "source": [
    "# By default - data inside fn has a local scope \n",
    "# 1.return keyword\n",
    "def fx():\n",
    "    v=100\n",
    "    return v  # Exit from Function\n",
    "    print(\"inside function\")\n",
    "\n",
    "v=fx()\n",
    "print(v)"
   ]
  },
  {
   "cell_type": "code",
   "execution_count": 215,
   "id": "2fccb953-7917-4712-ad7a-03ed283a6cde",
   "metadata": {},
   "outputs": [
    {
     "name": "stdout",
     "output_type": "stream",
     "text": [
      "None\n"
     ]
    }
   ],
   "source": [
    "def fx():\n",
    "    pass\n",
    "\n",
    "rv=fx()\n",
    "print(rv)\n",
    "    "
   ]
  },
  {
   "cell_type": "code",
   "execution_count": 216,
   "id": "c2f82a5a-bfdf-4ec9-b83c-048a5850fae8",
   "metadata": {},
   "outputs": [
    {
     "name": "stdout",
     "output_type": "stream",
     "text": [
      "8080\n"
     ]
    }
   ],
   "source": [
    "#2. global keyword\n",
    "def fx():\n",
    "    global port\n",
    "    port=8080\n",
    "\n",
    "fx()\n",
    "print(port)"
   ]
  },
  {
   "cell_type": "code",
   "execution_count": 217,
   "id": "9363a091-875d-4314-9b02-249f63c96914",
   "metadata": {},
   "outputs": [
    {
     "ename": "SyntaxError",
     "evalue": "invalid syntax (3409702038.py, line 2)",
     "output_type": "error",
     "traceback": [
      "\u001b[1;36m  Cell \u001b[1;32mIn[217], line 2\u001b[1;36m\u001b[0m\n\u001b[1;33m    global count=100\u001b[0m\n\u001b[1;37m                ^\u001b[0m\n\u001b[1;31mSyntaxError\u001b[0m\u001b[1;31m:\u001b[0m invalid syntax\n"
     ]
    }
   ],
   "source": [
    "def fx():\n",
    "    global count=100    # syntax Error\n",
    "fx()\n",
    "print(count)"
   ]
  },
  {
   "cell_type": "code",
   "execution_count": null,
   "id": "90f99f8a-20f6-4477-8b04-125d73064a2c",
   "metadata": {},
   "outputs": [],
   "source": [
    "module\n",
    "======\n",
    "- existing python file--> module\n",
    "- reuse var,function,class in different script\n",
    "- p1.py p2.py p3.py\n",
    "- import <modulename>\n",
    "  <modulename>.member\n",
    "\n",
    "file: ab.py                                  file:p1.py\n",
    "==========                                  ===========\n",
    "var=100                                     import ab\n",
    "===========                                 print( ab.var)   ----> 100\n",
    "\n",
    "file:sab.py                                       file: p1.py\n",
    "-----------                                      --------------\n",
    "var=100                                            import sab\n",
    "def f1():                                           print(sab.var)\n",
    "    print(\"f1 block\")                               sab.f1()\n",
    "def f2():                                           rv=sab.f2()\n",
    "    fnames=[\"p1.log\",\"p2.java\",\"p3.txt\"]             print(rv)\n",
    "    for var in fnames:                                 -----------------------------\n",
    "            return var.upper()                          E:\\>python p1.py\n",
    " --------------------------------------                 100\n",
    "sab-> loadable (or) runnable file                       f1 block\n",
    "                                                        P1.LOG   P2.JAVA  P3.TXT\n",
    "                                                    ---------------------------------\n",
    "                                                 p1.py ---> executable script or running script"
   ]
  },
  {
   "cell_type": "code",
   "execution_count": null,
   "id": "9d429a82-2e61-4657-96dd-3dbcc285bf2d",
   "metadata": {},
   "outputs": [],
   "source": [
    "python\n",
    "|-----------> search directory location\n",
    "                  sys.path"
   ]
  },
  {
   "cell_type": "code",
   "execution_count": null,
   "id": "766ed8cd-a151-4cb5-9095-6745a493dc20",
   "metadata": {},
   "outputs": [],
   "source": []
  },
  {
   "cell_type": "code",
   "execution_count": null,
   "id": "706b6cf3-518f-43bc-ba9f-2f02030da42a",
   "metadata": {},
   "outputs": [],
   "source": []
  }
 ],
 "metadata": {
  "kernelspec": {
   "display_name": "Python 3 (ipykernel)",
   "language": "python",
   "name": "python3"
  },
  "language_info": {
   "codemirror_mode": {
    "name": "ipython",
    "version": 3
   },
   "file_extension": ".py",
   "mimetype": "text/x-python",
   "name": "python",
   "nbconvert_exporter": "python",
   "pygments_lexer": "ipython3",
   "version": "3.13.5"
  }
 },
 "nbformat": 4,
 "nbformat_minor": 5
}
